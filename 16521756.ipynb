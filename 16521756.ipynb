{
 "cells": [
  {
   "cell_type": "code",
   "execution_count": null,
   "metadata": {},
   "outputs": [],
   "source": [
    "import pandas as pd\n",
    "import numpy as np"
   ]
  },
  {
   "cell_type": "code",
   "execution_count": null,
   "metadata": {},
   "outputs": [],
   "source": [
    "df = pd.read_csv('imports-85.data')"
   ]
  },
  {
   "cell_type": "markdown",
   "metadata": {},
   "source": [
    "#### Câu 1. Tạo dataframe (df) biểu diễn bộ dữ liệu thô đã cung cấp. Sau đó xuất 10 sample đầu tiên, và 5 sample bất kỳ"
   ]
  },
  {
   "cell_type": "code",
   "execution_count": null,
   "metadata": {},
   "outputs": [],
   "source": [
    "df.head()"
   ]
  },
  {
   "cell_type": "code",
   "execution_count": null,
   "metadata": {},
   "outputs": [],
   "source": [
    "df.sample(5)"
   ]
  },
  {
   "cell_type": "code",
   "execution_count": null,
   "metadata": {},
   "outputs": [],
   "source": [
    "df.columns"
   ]
  },
  {
   "cell_type": "markdown",
   "metadata": {},
   "source": [
    "##### Câu 2. Tạo header cho các cột tương ứng. Sau đó, xuất ra thông tin 6 sample đầu tiên, 7 sample cuối, và 8 sample bất kỳ."
   ]
  },
  {
   "cell_type": "code",
   "execution_count": null,
   "metadata": {},
   "outputs": [],
   "source": [
    "df.columns=[\"symboling\",\n",
    "\"normalized-losses\", \"make\", \"fuel-type\", \"aspiration\", \"num-of-doors\",\n",
    "\"body-style\", \"drive-wheels\", \"engine-location\", \"wheel-base\", \"length\",\n",
    "\"width\", \"height\", \"curb-weight\", \"engine-type\", \"num-of-cylinders\", \"engine-size\", \"fuel-system\", \"bore\", \"stroke\", \"compression-ratio\", \"horsepower\",\n",
    "\"peak-rpm\", \"city-mpg\", \"highway-mpg\", \"price\"]"
   ]
  },
  {
   "cell_type": "code",
   "execution_count": null,
   "metadata": {},
   "outputs": [],
   "source": [
    "df.head(6)"
   ]
  },
  {
   "cell_type": "code",
   "execution_count": null,
   "metadata": {},
   "outputs": [],
   "source": [
    "df.tail(6)"
   ]
  },
  {
   "cell_type": "code",
   "execution_count": null,
   "metadata": {},
   "outputs": [],
   "source": [
    "df.sample(8)"
   ]
  },
  {
   "cell_type": "markdown",
   "metadata": {},
   "source": [
    "###### Câu 3. Truy xuất tên các cột trong dataframe. Kết quả trả về là kiểu dữ liệu gì?"
   ]
  },
  {
   "cell_type": "code",
   "execution_count": null,
   "metadata": {
    "scrolled": true
   },
   "outputs": [],
   "source": [
    "for col in df:\n",
    "    print(col, \"(\", df[col].dtypes, \")\")"
   ]
  },
  {
   "cell_type": "markdown",
   "metadata": {},
   "source": [
    "###### Câu 4. Chuyển từ df đang có sang kiểu mảng 2 chiều trong Numpy."
   ]
  },
  {
   "cell_type": "code",
   "execution_count": null,
   "metadata": {},
   "outputs": [],
   "source": [
    "df.to_numpy()"
   ]
  },
  {
   "cell_type": "code",
   "execution_count": null,
   "metadata": {},
   "outputs": [],
   "source": [
    "np.asarray(df)"
   ]
  },
  {
   "cell_type": "markdown",
   "metadata": {},
   "source": [
    "##### Câu 5. Kiểm tra kiểu dữ liệu của tất cả attribute của df. So sánh với dữ liệu thô, phán đoán xem có đúng với kiểu dữ liệu mong muốn hay không? Gợi ý: Lập bảng so sánh."
   ]
  },
  {
   "cell_type": "code",
   "execution_count": null,
   "metadata": {},
   "outputs": [],
   "source": [
    "listC"
   ]
  },
  {
   "cell_type": "code",
   "execution_count": null,
   "metadata": {},
   "outputs": [],
   "source": [
    "Compare = pd.DataFrame(columns = ['Old', 'New','Equal'], index = df.columns)\n",
    "Compare['New'] = df.dtypes\n",
    "Compare['Old'] = ['int64','string','string','string','string','string','string',\n",
    "                  'string','string','float64','float64','float64','float64','int64',\n",
    "                  'string','string','int64','string','string','string','float64','string',\n",
    "                  'string','int64','int64','string']"
   ]
  },
  {
   "cell_type": "code",
   "execution_count": null,
   "metadata": {},
   "outputs": [],
   "source": [
    "Compare['Equal'] = Compare['Old'].str == Compare['New'].str\n",
    "Compare"
   ]
  },
  {
   "cell_type": "code",
   "execution_count": null,
   "metadata": {},
   "outputs": [],
   "source": [
    "df.info()"
   ]
  },
  {
   "cell_type": "markdown",
   "metadata": {},
   "source": [
    "###### Câu 6. Kiểm tra kiểu dữ liệu của mỗi attribute trong df."
   ]
  },
  {
   "cell_type": "code",
   "execution_count": null,
   "metadata": {},
   "outputs": [],
   "source": [
    "TypesDF = pd.Series(index = df.columns, data = df.dtypes)\n",
    "TypesDF"
   ]
  },
  {
   "cell_type": "code",
   "execution_count": null,
   "metadata": {},
   "outputs": [],
   "source": []
  },
  {
   "cell_type": "markdown",
   "metadata": {},
   "source": [
    "##### Câu 7. Chọn  feature sau để mô tả thống kê ['length', 'compression-ratio']. Kết quả thu được là kiểu dữ liệu gì? Xuất ra giá trị các quantile của các feature trên."
   ]
  },
  {
   "cell_type": "code",
   "execution_count": null,
   "metadata": {},
   "outputs": [],
   "source": [
    "df['length'].describe()"
   ]
  },
  {
   "cell_type": "code",
   "execution_count": null,
   "metadata": {
    "scrolled": true
   },
   "outputs": [],
   "source": [
    "df['compression-ratio'].describe()"
   ]
  },
  {
   "cell_type": "markdown",
   "metadata": {},
   "source": [
    "##### Câu 8. Tìm các sample mà attribute “price” có ký hiệu là “?”, hoặc “.”, hoặc “”"
   ]
  },
  {
   "cell_type": "code",
   "execution_count": null,
   "metadata": {
    "scrolled": true
   },
   "outputs": [],
   "source": [
    "df[(df['price'] == \"?\")|(df['price'] == \".\")|(df['price'] == \"\")]"
   ]
  },
  {
   "cell_type": "markdown",
   "metadata": {},
   "source": [
    "##### Câu 9. Tìm các sample mà attribute “normalized-losses” có ký hiệu là “?”, hoặc “.”,hoặc “”."
   ]
  },
  {
   "cell_type": "code",
   "execution_count": null,
   "metadata": {},
   "outputs": [],
   "source": [
    "df[(df['normalized-losses'] == \"?\")|(df['normalized-losses'] == \".\")|(df['normalized-losses'] == \"\")]"
   ]
  },
  {
   "cell_type": "markdown",
   "metadata": {},
   "source": [
    "###### Câu 10. Đảo ngược các feature trong dataframe."
   ]
  },
  {
   "cell_type": "code",
   "execution_count": null,
   "metadata": {},
   "outputs": [],
   "source": [
    "cols = df.columns"
   ]
  },
  {
   "cell_type": "code",
   "execution_count": null,
   "metadata": {},
   "outputs": [],
   "source": [
    "df[cols[::-1]]"
   ]
  },
  {
   "cell_type": "markdown",
   "metadata": {},
   "source": [
    "##### Câu 11. Chèn thêm 1 sample vào vị trí cuối trong dataframe."
   ]
  },
  {
   "cell_type": "code",
   "execution_count": null,
   "metadata": {},
   "outputs": [],
   "source": [
    "row = [-1,15,'volvo','gas','turbo','four','sedan','rwd','front',109.10,188.82,68.90,55.50,3062,\n",
    "       'ohc','four',151,'mpfi',3.78,3.15,9.51,114,5400,19,25,12625]\n",
    "Seriesdf = pd.Series(index = df.columns, data = row)\n",
    "df.append(Seriesdf, ignore_index=True).tail()"
   ]
  },
  {
   "cell_type": "markdown",
   "metadata": {},
   "source": [
    "##### Câu 12. Viết hàm lưu dataframe bất kỳ thành các tập tin sau “.csv”, “.json”, “excel”,“hdf”, “.sql”. Sau đó áp dụng lưu trữ các df đã có (câu 1, 3, 6...). Đặt tên filelưu trữ theo fomat sau: df_cau0x.<kiểu file>, với x là số thứ tự câu."
   ]
  },
  {
   "cell_type": "code",
   "execution_count": null,
   "metadata": {},
   "outputs": [],
   "source": [
    "!pip install sqlalchemy\n",
    "from sqlalchemy import create_engine\n",
    "engine = create_engine('sqlite://', echo=False)"
   ]
  },
  {
   "cell_type": "code",
   "execution_count": null,
   "metadata": {},
   "outputs": [],
   "source": [
    "def save_as(df,filename):\n",
    "        if  'csv' in filename:\n",
    "            df.to_csv(filename)\n",
    "        if  'json' in filename:\n",
    "            df.to_json(filename)\n",
    "        if  'excel' in filename:\n",
    "            df.to_excel(filename, sheet_name='Sheet_name_1')\n",
    "        if  'hdf' in filename:\n",
    "            df.to_hdf(filename)\n",
    "        if  'sql' in filename:\n",
    "            df.to_sql(filename, con = engine)"
   ]
  },
  {
   "cell_type": "code",
   "execution_count": null,
   "metadata": {},
   "outputs": [],
   "source": [
    "save_as(df,'tesst.excel')"
   ]
  },
  {
   "cell_type": "code",
   "execution_count": null,
   "metadata": {},
   "outputs": [],
   "source": []
  }
 ],
 "metadata": {
  "celltoolbar": "Format de la Cellule Texte Brut",
  "kernelspec": {
   "display_name": "Python 3",
   "language": "python",
   "name": "python3"
  },
  "language_info": {
   "codemirror_mode": {
    "name": "ipython",
    "version": 3
   },
   "file_extension": ".py",
   "mimetype": "text/x-python",
   "name": "python",
   "nbconvert_exporter": "python",
   "pygments_lexer": "ipython3",
   "version": "3.8.2"
  }
 },
 "nbformat": 4,
 "nbformat_minor": 2
}
