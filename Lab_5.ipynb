{
 "cells": [
  {
   "cell_type": "markdown",
   "metadata": {},
   "source": [
    "###### STT:\n",
    "###### Họ và tên: Vũ Cao Nguyên.\n",
    "###### Buổi 5 - Bài Lab 5"
   ]
  },
  {
   "cell_type": "code",
   "execution_count": 1,
   "metadata": {
    "id": "Y57cMCvH-7lM"
   },
   "outputs": [],
   "source": [
    "import pandas as pd\n",
    "import numpy as np\n",
    "import seaborn as sns \n",
    "from sklearn.linear_model import LinearRegression\n",
    "import matplotlib.pyplot as plt\n",
    "from sklearn.preprocessing import PolynomialFeatures\n",
    "from sklearn.metrics import mean_squared_error"
   ]
  },
  {
   "cell_type": "code",
   "execution_count": 2,
   "metadata": {
    "id": "ho6Qx_B4_3sC"
   },
   "outputs": [],
   "source": [
    "url = 'https://raw.githubusercontent.com/datasethub/ds105/master/Model_Dataset_Lab.csv'"
   ]
  },
  {
   "cell_type": "code",
   "execution_count": 3,
   "metadata": {
    "id": "00L1j4MJ-_kZ"
   },
   "outputs": [],
   "source": [
    "df = pd.read_csv(url)"
   ]
  },
  {
   "cell_type": "markdown",
   "metadata": {
    "id": "ZizR8jvLA-Ek"
   },
   "source": [
    "Câu 1. Tạo dataframe (df) lưu trữ dataset tại đường dẫn trên(chọn cách đọc load từ internet). Xuất 10 samples bất kỳ. Dataset có bao nhiêu sample, số lượng bao nhiêu features."
   ]
  },
  {
   "cell_type": "code",
   "execution_count": 4,
   "metadata": {
    "colab": {
     "base_uri": "https://localhost:8080/",
     "height": 359
    },
    "id": "jzqAlrC2_XVm",
    "outputId": "d1de22b5-5c55-4d56-81c1-fac43d50b22d"
   },
   "outputs": [
    {
     "data": {
      "text/html": [
       "<div>\n",
       "<style scoped>\n",
       "    .dataframe tbody tr th:only-of-type {\n",
       "        vertical-align: middle;\n",
       "    }\n",
       "\n",
       "    .dataframe tbody tr th {\n",
       "        vertical-align: top;\n",
       "    }\n",
       "\n",
       "    .dataframe thead th {\n",
       "        text-align: right;\n",
       "    }\n",
       "</style>\n",
       "<table border=\"1\" class=\"dataframe\">\n",
       "  <thead>\n",
       "    <tr style=\"text-align: right;\">\n",
       "      <th></th>\n",
       "      <th>curb-weight</th>\n",
       "      <th>engine-size</th>\n",
       "      <th>length</th>\n",
       "      <th>width</th>\n",
       "      <th>horsepower</th>\n",
       "      <th>city-mpg</th>\n",
       "      <th>highway-mpg</th>\n",
       "      <th>wheel-base</th>\n",
       "      <th>bore</th>\n",
       "      <th>drive-wheels</th>\n",
       "      <th>price</th>\n",
       "    </tr>\n",
       "  </thead>\n",
       "  <tbody>\n",
       "    <tr>\n",
       "      <th>0</th>\n",
       "      <td>1967</td>\n",
       "      <td>90</td>\n",
       "      <td>0.755887</td>\n",
       "      <td>0.886111</td>\n",
       "      <td>68.0</td>\n",
       "      <td>31</td>\n",
       "      <td>38</td>\n",
       "      <td>93.7</td>\n",
       "      <td>2.97</td>\n",
       "      <td>fwd</td>\n",
       "      <td>6229.0</td>\n",
       "    </tr>\n",
       "    <tr>\n",
       "      <th>1</th>\n",
       "      <td>2824</td>\n",
       "      <td>136</td>\n",
       "      <td>0.848630</td>\n",
       "      <td>0.922222</td>\n",
       "      <td>115.0</td>\n",
       "      <td>18</td>\n",
       "      <td>22</td>\n",
       "      <td>99.4</td>\n",
       "      <td>3.19</td>\n",
       "      <td>4wd</td>\n",
       "      <td>17450.0</td>\n",
       "    </tr>\n",
       "    <tr>\n",
       "      <th>2</th>\n",
       "      <td>2695</td>\n",
       "      <td>121</td>\n",
       "      <td>0.896684</td>\n",
       "      <td>0.923611</td>\n",
       "      <td>110.0</td>\n",
       "      <td>21</td>\n",
       "      <td>28</td>\n",
       "      <td>99.1</td>\n",
       "      <td>3.54</td>\n",
       "      <td>fwd</td>\n",
       "      <td>12170.0</td>\n",
       "    </tr>\n",
       "    <tr>\n",
       "      <th>3</th>\n",
       "      <td>2405</td>\n",
       "      <td>122</td>\n",
       "      <td>0.828448</td>\n",
       "      <td>0.908333</td>\n",
       "      <td>88.0</td>\n",
       "      <td>25</td>\n",
       "      <td>32</td>\n",
       "      <td>96.3</td>\n",
       "      <td>3.35</td>\n",
       "      <td>fwd</td>\n",
       "      <td>8189.0</td>\n",
       "    </tr>\n",
       "    <tr>\n",
       "      <th>4</th>\n",
       "      <td>2275</td>\n",
       "      <td>110</td>\n",
       "      <td>0.799135</td>\n",
       "      <td>0.894444</td>\n",
       "      <td>56.0</td>\n",
       "      <td>34</td>\n",
       "      <td>36</td>\n",
       "      <td>95.7</td>\n",
       "      <td>3.27</td>\n",
       "      <td>fwd</td>\n",
       "      <td>7898.0</td>\n",
       "    </tr>\n",
       "    <tr>\n",
       "      <th>5</th>\n",
       "      <td>3016</td>\n",
       "      <td>171</td>\n",
       "      <td>0.881788</td>\n",
       "      <td>0.940278</td>\n",
       "      <td>161.0</td>\n",
       "      <td>19</td>\n",
       "      <td>24</td>\n",
       "      <td>102.9</td>\n",
       "      <td>3.27</td>\n",
       "      <td>rwd</td>\n",
       "      <td>15998.0</td>\n",
       "    </tr>\n",
       "    <tr>\n",
       "      <th>6</th>\n",
       "      <td>2414</td>\n",
       "      <td>122</td>\n",
       "      <td>0.843825</td>\n",
       "      <td>0.923611</td>\n",
       "      <td>92.0</td>\n",
       "      <td>27</td>\n",
       "      <td>32</td>\n",
       "      <td>102.4</td>\n",
       "      <td>3.31</td>\n",
       "      <td>fwd</td>\n",
       "      <td>9988.0</td>\n",
       "    </tr>\n",
       "    <tr>\n",
       "      <th>7</th>\n",
       "      <td>1918</td>\n",
       "      <td>90</td>\n",
       "      <td>0.755887</td>\n",
       "      <td>0.886111</td>\n",
       "      <td>68.0</td>\n",
       "      <td>37</td>\n",
       "      <td>41</td>\n",
       "      <td>93.7</td>\n",
       "      <td>2.97</td>\n",
       "      <td>fwd</td>\n",
       "      <td>5572.0</td>\n",
       "    </tr>\n",
       "    <tr>\n",
       "      <th>8</th>\n",
       "      <td>2024</td>\n",
       "      <td>92</td>\n",
       "      <td>0.754926</td>\n",
       "      <td>0.887500</td>\n",
       "      <td>76.0</td>\n",
       "      <td>30</td>\n",
       "      <td>34</td>\n",
       "      <td>96.5</td>\n",
       "      <td>2.92</td>\n",
       "      <td>fwd</td>\n",
       "      <td>7295.0</td>\n",
       "    </tr>\n",
       "    <tr>\n",
       "      <th>9</th>\n",
       "      <td>1940</td>\n",
       "      <td>92</td>\n",
       "      <td>0.720807</td>\n",
       "      <td>0.888889</td>\n",
       "      <td>76.0</td>\n",
       "      <td>30</td>\n",
       "      <td>34</td>\n",
       "      <td>93.7</td>\n",
       "      <td>2.91</td>\n",
       "      <td>fwd</td>\n",
       "      <td>6529.0</td>\n",
       "    </tr>\n",
       "  </tbody>\n",
       "</table>\n",
       "</div>"
      ],
      "text/plain": [
       "   curb-weight  engine-size    length     width  horsepower  city-mpg  \\\n",
       "0         1967           90  0.755887  0.886111        68.0        31   \n",
       "1         2824          136  0.848630  0.922222       115.0        18   \n",
       "2         2695          121  0.896684  0.923611       110.0        21   \n",
       "3         2405          122  0.828448  0.908333        88.0        25   \n",
       "4         2275          110  0.799135  0.894444        56.0        34   \n",
       "5         3016          171  0.881788  0.940278       161.0        19   \n",
       "6         2414          122  0.843825  0.923611        92.0        27   \n",
       "7         1918           90  0.755887  0.886111        68.0        37   \n",
       "8         2024           92  0.754926  0.887500        76.0        30   \n",
       "9         1940           92  0.720807  0.888889        76.0        30   \n",
       "\n",
       "   highway-mpg  wheel-base  bore drive-wheels    price  \n",
       "0           38        93.7  2.97          fwd   6229.0  \n",
       "1           22        99.4  3.19          4wd  17450.0  \n",
       "2           28        99.1  3.54          fwd  12170.0  \n",
       "3           32        96.3  3.35          fwd   8189.0  \n",
       "4           36        95.7  3.27          fwd   7898.0  \n",
       "5           24       102.9  3.27          rwd  15998.0  \n",
       "6           32       102.4  3.31          fwd   9988.0  \n",
       "7           41        93.7  2.97          fwd   5572.0  \n",
       "8           34        96.5  2.92          fwd   7295.0  \n",
       "9           34        93.7  2.91          fwd   6529.0  "
      ]
     },
     "execution_count": 4,
     "metadata": {},
     "output_type": "execute_result"
    }
   ],
   "source": [
    "df.drop([\"Unnamed: 0\"], axis=1, inplace= True)\n",
    "df.head(10)"
   ]
  },
  {
   "cell_type": "code",
   "execution_count": 5,
   "metadata": {
    "colab": {
     "base_uri": "https://localhost:8080/",
     "height": 359
    },
    "id": "xZ-WtK1oBhf6",
    "outputId": "908a4c77-7d35-4606-996a-4decf500e962"
   },
   "outputs": [
    {
     "data": {
      "text/html": [
       "<div>\n",
       "<style scoped>\n",
       "    .dataframe tbody tr th:only-of-type {\n",
       "        vertical-align: middle;\n",
       "    }\n",
       "\n",
       "    .dataframe tbody tr th {\n",
       "        vertical-align: top;\n",
       "    }\n",
       "\n",
       "    .dataframe thead th {\n",
       "        text-align: right;\n",
       "    }\n",
       "</style>\n",
       "<table border=\"1\" class=\"dataframe\">\n",
       "  <thead>\n",
       "    <tr style=\"text-align: right;\">\n",
       "      <th></th>\n",
       "      <th>curb-weight</th>\n",
       "      <th>engine-size</th>\n",
       "      <th>length</th>\n",
       "      <th>width</th>\n",
       "      <th>horsepower</th>\n",
       "      <th>city-mpg</th>\n",
       "      <th>highway-mpg</th>\n",
       "      <th>wheel-base</th>\n",
       "      <th>bore</th>\n",
       "      <th>drive-wheels</th>\n",
       "      <th>price</th>\n",
       "    </tr>\n",
       "  </thead>\n",
       "  <tbody>\n",
       "    <tr>\n",
       "      <th>2</th>\n",
       "      <td>2695</td>\n",
       "      <td>121</td>\n",
       "      <td>0.896684</td>\n",
       "      <td>0.923611</td>\n",
       "      <td>110.0</td>\n",
       "      <td>21</td>\n",
       "      <td>28</td>\n",
       "      <td>99.1</td>\n",
       "      <td>3.54</td>\n",
       "      <td>fwd</td>\n",
       "      <td>12170.0</td>\n",
       "    </tr>\n",
       "    <tr>\n",
       "      <th>116</th>\n",
       "      <td>2395</td>\n",
       "      <td>108</td>\n",
       "      <td>0.849592</td>\n",
       "      <td>0.900000</td>\n",
       "      <td>101.0</td>\n",
       "      <td>23</td>\n",
       "      <td>29</td>\n",
       "      <td>101.2</td>\n",
       "      <td>3.50</td>\n",
       "      <td>rwd</td>\n",
       "      <td>16430.0</td>\n",
       "    </tr>\n",
       "    <tr>\n",
       "      <th>44</th>\n",
       "      <td>3131</td>\n",
       "      <td>171</td>\n",
       "      <td>0.902451</td>\n",
       "      <td>0.923611</td>\n",
       "      <td>156.0</td>\n",
       "      <td>20</td>\n",
       "      <td>24</td>\n",
       "      <td>104.5</td>\n",
       "      <td>3.27</td>\n",
       "      <td>rwd</td>\n",
       "      <td>15690.0</td>\n",
       "    </tr>\n",
       "    <tr>\n",
       "      <th>92</th>\n",
       "      <td>2010</td>\n",
       "      <td>92</td>\n",
       "      <td>0.785199</td>\n",
       "      <td>0.888889</td>\n",
       "      <td>76.0</td>\n",
       "      <td>30</td>\n",
       "      <td>34</td>\n",
       "      <td>96.5</td>\n",
       "      <td>2.91</td>\n",
       "      <td>fwd</td>\n",
       "      <td>7295.0</td>\n",
       "    </tr>\n",
       "    <tr>\n",
       "      <th>100</th>\n",
       "      <td>2458</td>\n",
       "      <td>122</td>\n",
       "      <td>0.843825</td>\n",
       "      <td>0.923611</td>\n",
       "      <td>92.0</td>\n",
       "      <td>27</td>\n",
       "      <td>32</td>\n",
       "      <td>102.4</td>\n",
       "      <td>3.31</td>\n",
       "      <td>fwd</td>\n",
       "      <td>11248.0</td>\n",
       "    </tr>\n",
       "    <tr>\n",
       "      <th>20</th>\n",
       "      <td>3495</td>\n",
       "      <td>183</td>\n",
       "      <td>0.901009</td>\n",
       "      <td>0.976389</td>\n",
       "      <td>123.0</td>\n",
       "      <td>22</td>\n",
       "      <td>25</td>\n",
       "      <td>106.7</td>\n",
       "      <td>3.58</td>\n",
       "      <td>rwd</td>\n",
       "      <td>28176.0</td>\n",
       "    </tr>\n",
       "    <tr>\n",
       "      <th>26</th>\n",
       "      <td>2912</td>\n",
       "      <td>141</td>\n",
       "      <td>0.907256</td>\n",
       "      <td>0.933333</td>\n",
       "      <td>114.0</td>\n",
       "      <td>23</td>\n",
       "      <td>28</td>\n",
       "      <td>104.3</td>\n",
       "      <td>3.78</td>\n",
       "      <td>rwd</td>\n",
       "      <td>12940.0</td>\n",
       "    </tr>\n",
       "    <tr>\n",
       "      <th>168</th>\n",
       "      <td>2465</td>\n",
       "      <td>110</td>\n",
       "      <td>0.842864</td>\n",
       "      <td>0.905556</td>\n",
       "      <td>101.0</td>\n",
       "      <td>24</td>\n",
       "      <td>28</td>\n",
       "      <td>96.5</td>\n",
       "      <td>3.15</td>\n",
       "      <td>fwd</td>\n",
       "      <td>12945.0</td>\n",
       "    </tr>\n",
       "    <tr>\n",
       "      <th>114</th>\n",
       "      <td>2128</td>\n",
       "      <td>98</td>\n",
       "      <td>0.755887</td>\n",
       "      <td>0.886111</td>\n",
       "      <td>102.0</td>\n",
       "      <td>24</td>\n",
       "      <td>30</td>\n",
       "      <td>93.7</td>\n",
       "      <td>3.03</td>\n",
       "      <td>fwd</td>\n",
       "      <td>7957.0</td>\n",
       "    </tr>\n",
       "    <tr>\n",
       "      <th>69</th>\n",
       "      <td>2191</td>\n",
       "      <td>98</td>\n",
       "      <td>0.803940</td>\n",
       "      <td>0.886111</td>\n",
       "      <td>68.0</td>\n",
       "      <td>31</td>\n",
       "      <td>38</td>\n",
       "      <td>93.7</td>\n",
       "      <td>2.97</td>\n",
       "      <td>fwd</td>\n",
       "      <td>7609.0</td>\n",
       "    </tr>\n",
       "  </tbody>\n",
       "</table>\n",
       "</div>"
      ],
      "text/plain": [
       "     curb-weight  engine-size    length     width  horsepower  city-mpg  \\\n",
       "2           2695          121  0.896684  0.923611       110.0        21   \n",
       "116         2395          108  0.849592  0.900000       101.0        23   \n",
       "44          3131          171  0.902451  0.923611       156.0        20   \n",
       "92          2010           92  0.785199  0.888889        76.0        30   \n",
       "100         2458          122  0.843825  0.923611        92.0        27   \n",
       "20          3495          183  0.901009  0.976389       123.0        22   \n",
       "26          2912          141  0.907256  0.933333       114.0        23   \n",
       "168         2465          110  0.842864  0.905556       101.0        24   \n",
       "114         2128           98  0.755887  0.886111       102.0        24   \n",
       "69          2191           98  0.803940  0.886111        68.0        31   \n",
       "\n",
       "     highway-mpg  wheel-base  bore drive-wheels    price  \n",
       "2             28        99.1  3.54          fwd  12170.0  \n",
       "116           29       101.2  3.50          rwd  16430.0  \n",
       "44            24       104.5  3.27          rwd  15690.0  \n",
       "92            34        96.5  2.91          fwd   7295.0  \n",
       "100           32       102.4  3.31          fwd  11248.0  \n",
       "20            25       106.7  3.58          rwd  28176.0  \n",
       "26            28       104.3  3.78          rwd  12940.0  \n",
       "168           28        96.5  3.15          fwd  12945.0  \n",
       "114           30        93.7  3.03          fwd   7957.0  \n",
       "69            38        93.7  2.97          fwd   7609.0  "
      ]
     },
     "execution_count": 5,
     "metadata": {},
     "output_type": "execute_result"
    }
   ],
   "source": [
    "df.sample(10)\n",
    "# xuất 10 sample bất kỳ"
   ]
  },
  {
   "cell_type": "code",
   "execution_count": 6,
   "metadata": {
    "colab": {
     "base_uri": "https://localhost:8080/",
     "height": 34
    },
    "id": "OkpXOVlf_mam",
    "outputId": "bb1f1402-df52-42b5-d5c7-2fa3ff98e3a0"
   },
   "outputs": [
    {
     "data": {
      "text/plain": [
       "180"
      ]
     },
     "execution_count": 6,
     "metadata": {},
     "output_type": "execute_result"
    }
   ],
   "source": [
    "df.shape[0]\n",
    "# Số lượng samples"
   ]
  },
  {
   "cell_type": "code",
   "execution_count": 7,
   "metadata": {
    "colab": {
     "base_uri": "https://localhost:8080/",
     "height": 34
    },
    "id": "6hRXpLjS_tfN",
    "outputId": "381b5b39-bb94-4418-d800-6b8bf9e356ce"
   },
   "outputs": [
    {
     "data": {
      "text/plain": [
       "11"
      ]
     },
     "execution_count": 7,
     "metadata": {},
     "output_type": "execute_result"
    }
   ],
   "source": [
    "df.columns.shape[0]\n",
    "#Số lượng columns có trong dataset"
   ]
  },
  {
   "cell_type": "markdown",
   "metadata": {
    "id": "RwGDBhqNBxqz"
   },
   "source": [
    "### Câu 2 kiểm tra dữ liệu của các feature 'curb-weight','engine-size', 'length', 'width', 'horsepower', 'city-mpg', 'highway-mpg', 'wheel-base', 'bore' trong dataset. Dataset có bị khuyết giá trị nào hay không?"
   ]
  },
  {
   "cell_type": "code",
   "execution_count": 8,
   "metadata": {
    "colab": {
     "base_uri": "https://localhost:8080/",
     "height": 221
    },
    "id": "_bVRumCkB_Ha",
    "outputId": "466cf0e2-4871-4fb6-b901-5ae7b21ed21e"
   },
   "outputs": [
    {
     "data": {
      "text/plain": [
       "curb-weight       int64\n",
       "engine-size       int64\n",
       "length          float64\n",
       "width           float64\n",
       "horsepower      float64\n",
       "city-mpg          int64\n",
       "highway-mpg       int64\n",
       "wheel-base      float64\n",
       "bore            float64\n",
       "drive-wheels     object\n",
       "price           float64\n",
       "dtype: object"
      ]
     },
     "execution_count": 8,
     "metadata": {},
     "output_type": "execute_result"
    }
   ],
   "source": [
    "df.dtypes"
   ]
  },
  {
   "cell_type": "code",
   "execution_count": 9,
   "metadata": {
    "colab": {
     "base_uri": "https://localhost:8080/",
     "height": 407
    },
    "id": "xAaV7L29CBYV",
    "outputId": "65fcb549-3c26-4ce1-bc19-a28e1a5a9d7b"
   },
   "outputs": [
    {
     "name": "stdout",
     "output_type": "stream",
     "text": [
      "Kiểm tra các feature có giá trị nào null hay không:\n"
     ]
    },
    {
     "data": {
      "text/html": [
       "<div>\n",
       "<style scoped>\n",
       "    .dataframe tbody tr th:only-of-type {\n",
       "        vertical-align: middle;\n",
       "    }\n",
       "\n",
       "    .dataframe tbody tr th {\n",
       "        vertical-align: top;\n",
       "    }\n",
       "\n",
       "    .dataframe thead th {\n",
       "        text-align: right;\n",
       "    }\n",
       "</style>\n",
       "<table border=\"1\" class=\"dataframe\">\n",
       "  <thead>\n",
       "    <tr style=\"text-align: right;\">\n",
       "      <th></th>\n",
       "      <th>0</th>\n",
       "    </tr>\n",
       "  </thead>\n",
       "  <tbody>\n",
       "    <tr>\n",
       "      <th>curb-weight</th>\n",
       "      <td>0</td>\n",
       "    </tr>\n",
       "    <tr>\n",
       "      <th>engine-size</th>\n",
       "      <td>0</td>\n",
       "    </tr>\n",
       "    <tr>\n",
       "      <th>length</th>\n",
       "      <td>0</td>\n",
       "    </tr>\n",
       "    <tr>\n",
       "      <th>width</th>\n",
       "      <td>0</td>\n",
       "    </tr>\n",
       "    <tr>\n",
       "      <th>horsepower</th>\n",
       "      <td>0</td>\n",
       "    </tr>\n",
       "    <tr>\n",
       "      <th>city-mpg</th>\n",
       "      <td>0</td>\n",
       "    </tr>\n",
       "    <tr>\n",
       "      <th>highway-mpg</th>\n",
       "      <td>0</td>\n",
       "    </tr>\n",
       "    <tr>\n",
       "      <th>wheel-base</th>\n",
       "      <td>0</td>\n",
       "    </tr>\n",
       "    <tr>\n",
       "      <th>bore</th>\n",
       "      <td>0</td>\n",
       "    </tr>\n",
       "    <tr>\n",
       "      <th>drive-wheels</th>\n",
       "      <td>0</td>\n",
       "    </tr>\n",
       "    <tr>\n",
       "      <th>price</th>\n",
       "      <td>0</td>\n",
       "    </tr>\n",
       "  </tbody>\n",
       "</table>\n",
       "</div>"
      ],
      "text/plain": [
       "              0\n",
       "curb-weight   0\n",
       "engine-size   0\n",
       "length        0\n",
       "width         0\n",
       "horsepower    0\n",
       "city-mpg      0\n",
       "highway-mpg   0\n",
       "wheel-base    0\n",
       "bore          0\n",
       "drive-wheels  0\n",
       "price         0"
      ]
     },
     "execution_count": 9,
     "metadata": {},
     "output_type": "execute_result"
    }
   ],
   "source": [
    "print('Kiểm tra các feature có giá trị nào null hay không:')\n",
    "pd.DataFrame(df.isnull().sum().values, index = df.isnull().sum().index)"
   ]
  },
  {
   "cell_type": "code",
   "execution_count": null,
   "metadata": {
    "id": "V0Od0DVpCF8l"
   },
   "outputs": [],
   "source": []
  },
  {
   "cell_type": "markdown",
   "metadata": {
    "id": "RgLqhtNMDko8"
   },
   "source": [
    "### Câu 3: Phát triển mô hình Polynomial Regression bậc 3 để dự đoán giá xe từ biến 'highway-mpg' (Tên mô hình poly)"
   ]
  },
  {
   "cell_type": "code",
   "execution_count": 10,
   "metadata": {},
   "outputs": [
    {
     "data": {
      "text/plain": [
       "0       6229.0\n",
       "1      17450.0\n",
       "2      12170.0\n",
       "3       8189.0\n",
       "4       7898.0\n",
       "        ...   \n",
       "175    11549.0\n",
       "176    19699.0\n",
       "177     7999.0\n",
       "178    16515.0\n",
       "179    10898.0\n",
       "Name: price, Length: 180, dtype: float64"
      ]
     },
     "execution_count": 10,
     "metadata": {},
     "output_type": "execute_result"
    }
   ],
   "source": [
    "y = df['price']\n",
    "y"
   ]
  },
  {
   "cell_type": "code",
   "execution_count": 11,
   "metadata": {},
   "outputs": [],
   "source": [
    "x = df[['highway-mpg']]"
   ]
  },
  {
   "cell_type": "code",
   "execution_count": 12,
   "metadata": {},
   "outputs": [],
   "source": [
    "pr = PolynomialFeatures(degree=3, include_bias=False)"
   ]
  },
  {
   "cell_type": "code",
   "execution_count": 13,
   "metadata": {},
   "outputs": [],
   "source": [
    "x_poly = pr.fit_transform(x)"
   ]
  },
  {
   "cell_type": "code",
   "execution_count": 14,
   "metadata": {},
   "outputs": [
    {
     "data": {
      "text/plain": [
       "LinearRegression()"
      ]
     },
     "execution_count": 14,
     "metadata": {},
     "output_type": "execute_result"
    }
   ],
   "source": [
    "poly = LinearRegression()\n",
    "poly.fit(x_poly, y)"
   ]
  },
  {
   "cell_type": "code",
   "execution_count": null,
   "metadata": {},
   "outputs": [],
   "source": []
  },
  {
   "cell_type": "code",
   "execution_count": 15,
   "metadata": {},
   "outputs": [],
   "source": [
    "Yhat = poly.predict(x_poly)"
   ]
  },
  {
   "cell_type": "code",
   "execution_count": 16,
   "metadata": {},
   "outputs": [
    {
     "data": {
      "text/plain": [
       "Text(0.5, 1.0, 'Displot')"
      ]
     },
     "execution_count": 16,
     "metadata": {},
     "output_type": "execute_result"
    },
    {
     "data": {
      "image/png": "[encoded data removed]",
      "text/plain": [
       "<Figure size 432x288 with 1 Axes>"
      ]
     },
     "metadata": {
      "needs_background": "light"
     },
     "output_type": "display_data"
    }
   ],
   "source": [
    "ax1 = sns.distplot(y, hist=False, color='r', label=\"Actual Value\")\n",
    "sns.distplot(Yhat, hist=False, color='b', label=\"Fitted value\", ax=ax1)\n",
    "plt.title(\"Displot\")"
   ]
  },
  {
   "cell_type": "markdown",
   "metadata": {
    "colab": {
     "base_uri": "https://localhost:8080/",
     "height": 34
    },
    "id": "K3nFyho4Mx_2",
    "outputId": "43467283-3f3f-408d-9ac7-24cb9232d470"
   },
   "source": [
    "###### Câu 4: Tính MSE và R^2 để đánh giá tập mẫu của mô hình poly băng phương pháp thủ công. Phát họa distribution plot để đánh giá mô hình."
   ]
  },
  {
   "cell_type": "markdown",
   "metadata": {
    "id": "a6nk5xx1Pi3E"
   },
   "source": [
    "MSE = ((y - Yhat)**2)/n"
   ]
  },
  {
   "cell_type": "code",
   "execution_count": 17,
   "metadata": {
    "colab": {
     "base_uri": "https://localhost:8080/",
     "height": 34
    },
    "id": "vhjzZ-R8KP1M",
    "outputId": "233f86a0-6d22-4f95-9c99-56fb3d3bea2a"
   },
   "outputs": [],
   "source": [
    "y = df['price']"
   ]
  },
  {
   "cell_type": "code",
   "execution_count": 18,
   "metadata": {},
   "outputs": [],
   "source": [
    "Yhat = poly.predict(x_poly)"
   ]
  },
  {
   "cell_type": "code",
   "execution_count": 19,
   "metadata": {},
   "outputs": [
    {
     "data": {
      "text/plain": [
       "19355973.294509444"
      ]
     },
     "execution_count": 19,
     "metadata": {},
     "output_type": "execute_result"
    }
   ],
   "source": [
    "MSE = ((y - Yhat)**2).mean()\n",
    "MSE"
   ]
  },
  {
   "cell_type": "code",
   "execution_count": 20,
   "metadata": {
    "colab": {
     "base_uri": "https://localhost:8080/",
     "height": 986
    },
    "id": "BVT1TDeFPNu0",
    "outputId": "3e91c63c-48aa-4618-badb-3fab0337b868"
   },
   "outputs": [
    {
     "data": {
      "text/plain": [
       "19355973.294509444"
      ]
     },
     "execution_count": 20,
     "metadata": {},
     "output_type": "execute_result"
    }
   ],
   "source": [
    "mean_squared_error(y, Yhat)\n",
    "## Sử dụng model để kiểm tra"
   ]
  },
  {
   "cell_type": "code",
   "execution_count": 21,
   "metadata": {},
   "outputs": [
    {
     "data": {
      "text/plain": [
       "13289.694444444445"
      ]
     },
     "execution_count": 21,
     "metadata": {},
     "output_type": "execute_result"
    }
   ],
   "source": [
    "### R^2\n",
    "y_average = y.mean()\n",
    "y_average"
   ]
  },
  {
   "cell_type": "code",
   "execution_count": 22,
   "metadata": {},
   "outputs": [
    {
     "data": {
      "text/plain": [
       "63661354.77885803"
      ]
     },
     "execution_count": 22,
     "metadata": {},
     "output_type": "execute_result"
    }
   ],
   "source": [
    "MSE_y_average = ((y - y_average)**2).mean()\n",
    "MSE_y_average"
   ]
  },
  {
   "cell_type": "code",
   "execution_count": 23,
   "metadata": {},
   "outputs": [
    {
     "data": {
      "text/plain": [
       "0.6959541096518169"
      ]
     },
     "execution_count": 23,
     "metadata": {},
     "output_type": "execute_result"
    }
   ],
   "source": [
    "R2 = 1 - MSE/MSE_y_average\n",
    "R2"
   ]
  },
  {
   "cell_type": "code",
   "execution_count": null,
   "metadata": {},
   "outputs": [],
   "source": []
  },
  {
   "cell_type": "markdown",
   "metadata": {
    "id": "LV8GK5-2QGqK"
   },
   "source": [
    "## Câu 5: Phát triển mô hình hồi quy tuyến tính đa biến để dự đoán giá xe từ biến 'curb-weight','engine-size', 'horsepower' , 'highway-mpg' "
   ]
  },
  {
   "cell_type": "code",
   "execution_count": 24,
   "metadata": {},
   "outputs": [],
   "source": [
    "x = df[[ 'curb-weight','engine-size', 'horsepower' , 'highway-mpg']]"
   ]
  },
  {
   "cell_type": "code",
   "execution_count": 25,
   "metadata": {},
   "outputs": [],
   "source": [
    "y = df['price']"
   ]
  },
  {
   "cell_type": "code",
   "execution_count": 26,
   "metadata": {},
   "outputs": [
    {
     "data": {
      "text/plain": [
       "LinearRegression()"
      ]
     },
     "execution_count": 26,
     "metadata": {},
     "output_type": "execute_result"
    }
   ],
   "source": [
    "lm_5 = LinearRegression()\n",
    "lm_5.fit(x, y)"
   ]
  },
  {
   "cell_type": "code",
   "execution_count": 27,
   "metadata": {},
   "outputs": [
    {
     "name": "stdout",
     "output_type": "stream",
     "text": [
      "[ 4.92709318 82.78420228 46.31113134 29.03220964]\n",
      "-15629.377814761345\n"
     ]
    }
   ],
   "source": [
    "print(lm_5.coef_)\n",
    "print(lm_5.intercept_)"
   ]
  },
  {
   "cell_type": "code",
   "execution_count": null,
   "metadata": {},
   "outputs": [],
   "source": []
  },
  {
   "cell_type": "markdown",
   "metadata": {},
   "source": [
    "   ### Câu 6: Tính MSE và R^2 để đánh giá tập mẫu của mô hình trên bằng phương pháp thủ công. Phát họa distribution plot để đánh giá mô hình."
   ]
  },
  {
   "cell_type": "code",
   "execution_count": 28,
   "metadata": {},
   "outputs": [],
   "source": [
    "y = df['price']\n",
    "x = df[[ 'curb-weight','engine-size', 'horsepower' , 'highway-mpg']]"
   ]
  },
  {
   "cell_type": "code",
   "execution_count": 29,
   "metadata": {},
   "outputs": [],
   "source": [
    "Yhat = lm_5.predict(x)"
   ]
  },
  {
   "cell_type": "code",
   "execution_count": 30,
   "metadata": {},
   "outputs": [
    {
     "data": {
      "text/plain": [
       "12403507.581239758"
      ]
     },
     "execution_count": 30,
     "metadata": {},
     "output_type": "execute_result"
    }
   ],
   "source": [
    "## MSE tính thủ công\n",
    "MSE = ((y - Yhat)**2).mean()\n",
    "MSE"
   ]
  },
  {
   "cell_type": "code",
   "execution_count": 31,
   "metadata": {},
   "outputs": [
    {
     "data": {
      "text/plain": [
       "12403507.581239758"
      ]
     },
     "execution_count": 31,
     "metadata": {},
     "output_type": "execute_result"
    }
   ],
   "source": [
    "## MSE tính bẳng model\n",
    "mean_squared_error(y, Yhat)"
   ]
  },
  {
   "cell_type": "code",
   "execution_count": 32,
   "metadata": {},
   "outputs": [
    {
     "data": {
      "text/plain": [
       "13289.694444444445"
      ]
     },
     "execution_count": 32,
     "metadata": {},
     "output_type": "execute_result"
    }
   ],
   "source": [
    "y_average = y.mean()\n",
    "y_average"
   ]
  },
  {
   "cell_type": "code",
   "execution_count": 33,
   "metadata": {},
   "outputs": [
    {
     "data": {
      "text/plain": [
       "63661354.77885803"
      ]
     },
     "execution_count": 33,
     "metadata": {},
     "output_type": "execute_result"
    }
   ],
   "source": [
    "MSE_y_average = ((y - y_average)**2).mean()\n",
    "MSE_y_average"
   ]
  },
  {
   "cell_type": "code",
   "execution_count": 34,
   "metadata": {},
   "outputs": [
    {
     "data": {
      "text/plain": [
       "0.8051642535047185"
      ]
     },
     "execution_count": 34,
     "metadata": {},
     "output_type": "execute_result"
    }
   ],
   "source": [
    "## R^2\n",
    "R2 = 1- (MSE/MSE_y_average)\n",
    "R2"
   ]
  },
  {
   "cell_type": "code",
   "execution_count": 35,
   "metadata": {},
   "outputs": [
    {
     "data": {
      "text/plain": [
       "Text(0.5, 1.0, 'Displot')"
      ]
     },
     "execution_count": 35,
     "metadata": {},
     "output_type": "execute_result"
    },
    {
     "data": {
      "image/png": "[encoded data removed]",
      "text/plain": [
       "<Figure size 432x288 with 1 Axes>"
      ]
     },
     "metadata": {
      "needs_background": "light"
     },
     "output_type": "display_data"
    }
   ],
   "source": [
    "ax1 = sns.distplot(y, hist=False, color='r', label=\"Actual Value\")\n",
    "sns.distplot(Yhat, hist=False, color='b', label=\"Fitted value\", ax=ax1)\n",
    "plt.title(\"Displot\")"
   ]
  },
  {
   "cell_type": "markdown",
   "metadata": {},
   "source": [
    "### Câu 7: Phát triển mô hình Polynomial Regression bậc 2 để dự đoán giá xe từ biến 'horsepower','curb-weight', 'engine-size','highway-mpg'"
   ]
  },
  {
   "cell_type": "code",
   "execution_count": 36,
   "metadata": {},
   "outputs": [],
   "source": [
    "x = df[['horsepower','curb-weight', 'engine-size','highway-mpg']]"
   ]
  },
  {
   "cell_type": "code",
   "execution_count": 37,
   "metadata": {},
   "outputs": [],
   "source": [
    "y = df['price']"
   ]
  },
  {
   "cell_type": "code",
   "execution_count": 38,
   "metadata": {},
   "outputs": [],
   "source": [
    "pr = PolynomialFeatures(degree=2, include_bias=False)"
   ]
  },
  {
   "cell_type": "code",
   "execution_count": 39,
   "metadata": {},
   "outputs": [
    {
     "data": {
      "text/plain": [
       "(180, 14)"
      ]
     },
     "execution_count": 39,
     "metadata": {},
     "output_type": "execute_result"
    }
   ],
   "source": [
    "x_four_poly = pr.fit_transform(x)\n",
    "x_four_poly.shape"
   ]
  },
  {
   "cell_type": "code",
   "execution_count": 40,
   "metadata": {},
   "outputs": [],
   "source": [
    "lm = LinearRegression()"
   ]
  },
  {
   "cell_type": "code",
   "execution_count": 41,
   "metadata": {},
   "outputs": [
    {
     "data": {
      "text/plain": [
       "LinearRegression()"
      ]
     },
     "execution_count": 41,
     "metadata": {},
     "output_type": "execute_result"
    }
   ],
   "source": [
    "lm.fit(x_four_poly, y)"
   ]
  },
  {
   "cell_type": "code",
   "execution_count": 42,
   "metadata": {},
   "outputs": [
    {
     "data": {
      "text/plain": [
       "(180,)"
      ]
     },
     "execution_count": 42,
     "metadata": {},
     "output_type": "execute_result"
    }
   ],
   "source": [
    "lm.predict(x_four_poly).shape"
   ]
  },
  {
   "cell_type": "markdown",
   "metadata": {},
   "source": [
    "### Câu 8: Tính MSE và R^2 để đánh giá tập mẫu của mô hình trên bằng phương pháp thủ công và gọi hàm. Phát họa distribution plot để đánh giá mô hình"
   ]
  },
  {
   "cell_type": "code",
   "execution_count": 43,
   "metadata": {},
   "outputs": [],
   "source": [
    "Yhat = lm.predict(x_four_poly)"
   ]
  },
  {
   "cell_type": "code",
   "execution_count": 44,
   "metadata": {},
   "outputs": [],
   "source": [
    "y = df['price']"
   ]
  },
  {
   "cell_type": "code",
   "execution_count": 45,
   "metadata": {},
   "outputs": [],
   "source": [
    "y_average = y.mean()"
   ]
  },
  {
   "cell_type": "code",
   "execution_count": 46,
   "metadata": {},
   "outputs": [
    {
     "data": {
      "text/plain": [
       "10132959.978562253"
      ]
     },
     "execution_count": 46,
     "metadata": {},
     "output_type": "execute_result"
    }
   ],
   "source": [
    "MSE = ((y- Yhat)**2).mean()\n",
    "MSE"
   ]
  },
  {
   "cell_type": "code",
   "execution_count": 47,
   "metadata": {},
   "outputs": [
    {
     "data": {
      "text/plain": [
       "63661354.77885803"
      ]
     },
     "execution_count": 47,
     "metadata": {},
     "output_type": "execute_result"
    }
   ],
   "source": [
    "MSE_y_average = ((y - y_average)**2).mean()\n",
    "MSE_y_average"
   ]
  },
  {
   "cell_type": "code",
   "execution_count": 48,
   "metadata": {},
   "outputs": [
    {
     "data": {
      "text/plain": [
       "0.8408302805719207"
      ]
     },
     "execution_count": 48,
     "metadata": {},
     "output_type": "execute_result"
    }
   ],
   "source": [
    "R2 = 1 - (MSE/MSE_y_average)\n",
    "R2"
   ]
  },
  {
   "cell_type": "markdown",
   "metadata": {},
   "source": [
    "## Câu 9: Thiết kế một pipeline để phát triển mô hình Polynomial Regression bậc 2 để dự đoán giá xe từ biến 'horsepower','curb-weight', 'engine-size','highway-mpg'. Trong pipeline thực hiện các công việc sau. Normalize, Transform => feature, LinearRegression để Fit tìm mô hình. Xuất mô hình vừa tìm được."
   ]
  },
  {
   "cell_type": "code",
   "execution_count": 49,
   "metadata": {},
   "outputs": [],
   "source": [
    "from sklearn.preprocessing import StandardScaler\n",
    "from sklearn.pipeline import Pipeline"
   ]
  },
  {
   "cell_type": "code",
   "execution_count": 50,
   "metadata": {},
   "outputs": [],
   "source": [
    "Input = [('scale', StandardScaler()),\n",
    "        ('polynomial', PolynomialFeatures(include_bias=False)),\n",
    "        ('model', LinearRegression())]"
   ]
  },
  {
   "cell_type": "code",
   "execution_count": 51,
   "metadata": {},
   "outputs": [],
   "source": [
    "pipe = Pipeline(Input)"
   ]
  },
  {
   "cell_type": "code",
   "execution_count": 52,
   "metadata": {},
   "outputs": [],
   "source": [
    "x = df[['horsepower','curb-weight', 'engine-size','highway-mpg']]"
   ]
  },
  {
   "cell_type": "code",
   "execution_count": 53,
   "metadata": {},
   "outputs": [],
   "source": [
    "y = df['price']"
   ]
  },
  {
   "cell_type": "code",
   "execution_count": 54,
   "metadata": {},
   "outputs": [
    {
     "data": {
      "text/plain": [
       "Pipeline(steps=[('scale', StandardScaler()),\n",
       "                ('polynomial', PolynomialFeatures(include_bias=False)),\n",
       "                ('model', LinearRegression())])"
      ]
     },
     "execution_count": 54,
     "metadata": {},
     "output_type": "execute_result"
    }
   ],
   "source": [
    "pipe.fit(x, y)"
   ]
  },
  {
   "cell_type": "code",
   "execution_count": 55,
   "metadata": {},
   "outputs": [
    {
     "data": {
      "text/plain": [
       "array([ 6069.72049753, 16278.61848822, 12481.96116031, 10348.4369573 ])"
      ]
     },
     "execution_count": 55,
     "metadata": {},
     "output_type": "execute_result"
    }
   ],
   "source": [
    "Yhat = pipe.predict(x)\n",
    "Yhat[0:4]"
   ]
  },
  {
   "cell_type": "markdown",
   "metadata": {},
   "source": [
    "### Câu 10: Tìm khoảng giá trị được xem là vô lý trong mô hình"
   ]
  },
  {
   "cell_type": "code",
   "execution_count": 56,
   "metadata": {},
   "outputs": [],
   "source": [
    "## Mô hình hồi quy đa biến 'curb-weight','engine-size', 'horsepower' , 'highway-mpg' lm_5"
   ]
  },
  {
   "cell_type": "code",
   "execution_count": 57,
   "metadata": {},
   "outputs": [],
   "source": [
    "## Sử dụng phương pháp random giá trị để tìm ra các giá trị không hợp lệ.\n",
    "x_test = np.array(np.arange(1000).reshape(250,4))\n",
    "y_test = lm_5.predict(x_test)"
   ]
  },
  {
   "cell_type": "code",
   "execution_count": 58,
   "metadata": {},
   "outputs": [
    {
     "data": {
      "text/plain": [
       "array([-15366.87472089, -14714.65617513, -14062.43762938, -13410.21908362,\n",
       "       -12758.00053787, -12105.78199211, -11453.56344636, -10801.3449006 ,\n",
       "       -10149.12635485,  -9496.90780909,  -8844.68926334,  -8192.47071758,\n",
       "        -7540.25217183,  -6888.03362607,  -6235.81508032,  -5583.59653456,\n",
       "        -4931.37798881,  -4279.15944305,  -3626.9408973 ,  -2974.72235154,\n",
       "        -2322.50380579,  -1670.28526003,  -1018.06671428,   -365.84816852])"
      ]
     },
     "execution_count": 58,
     "metadata": {},
     "output_type": "execute_result"
    }
   ],
   "source": [
    "y_test[:24]"
   ]
  },
  {
   "cell_type": "code",
   "execution_count": 59,
   "metadata": {},
   "outputs": [
    {
     "data": {
      "text/plain": [
       "array([[ 0,  1,  2,  3],\n",
       "       [ 4,  5,  6,  7],\n",
       "       [ 8,  9, 10, 11],\n",
       "       [12, 13, 14, 15],\n",
       "       [16, 17, 18, 19],\n",
       "       [20, 21, 22, 23],\n",
       "       [24, 25, 26, 27],\n",
       "       [28, 29, 30, 31],\n",
       "       [32, 33, 34, 35],\n",
       "       [36, 37, 38, 39],\n",
       "       [40, 41, 42, 43],\n",
       "       [44, 45, 46, 47],\n",
       "       [48, 49, 50, 51],\n",
       "       [52, 53, 54, 55],\n",
       "       [56, 57, 58, 59],\n",
       "       [60, 61, 62, 63],\n",
       "       [64, 65, 66, 67],\n",
       "       [68, 69, 70, 71],\n",
       "       [72, 73, 74, 75],\n",
       "       [76, 77, 78, 79],\n",
       "       [80, 81, 82, 83],\n",
       "       [84, 85, 86, 87],\n",
       "       [88, 89, 90, 91],\n",
       "       [92, 93, 94, 95]])"
      ]
     },
     "execution_count": 59,
     "metadata": {},
     "output_type": "execute_result"
    }
   ],
   "source": [
    "x_test[:24,:]"
   ]
  },
  {
   "cell_type": "markdown",
   "metadata": {},
   "source": [
    "### Câu 11: Xếp hạng các mô hình đã phát triển các câu trên."
   ]
  },
  {
   "cell_type": "markdown",
   "metadata": {},
   "source": [
    "##### Mô hình poly:  MSE = 15844642.212048048; R^2 = 0.7511105086109467\n",
    "##### Mô hình câu 5: MSE = 12403507.581239758; R^2 = 0.8051642535047185\n",
    "##### Mô hình câu 7: MSE = 10132959.978562253; R^2 = 0.8408302805719207"
   ]
  },
  {
   "cell_type": "markdown",
   "metadata": {},
   "source": [
    "#### Rank mô hình xếp theo R^2 cao hơn => mô hình có thể tạm tin"
   ]
  },
  {
   "cell_type": "markdown",
   "metadata": {},
   "source": [
    "### Câu 12: Phát triển một mô hình nào khác tốt hơn các mô hình đã phát triển bên trên. Nếu có thì chứng minh mô hình của bạn tốt hơn."
   ]
  },
  {
   "cell_type": "markdown",
   "metadata": {},
   "source": [
    "#### Phát triển mô hình hồi quy có 1 đến 9 biến. Viết hàm kiểm tra MSE và R^2 để tìm ra mô hình có chỉ số cao để tiến hành phát triển"
   ]
  },
  {
   "cell_type": "code",
   "execution_count": 60,
   "metadata": {},
   "outputs": [],
   "source": [
    "def Check_R2_v(dataframe, variables = 2):\n",
    "    list_features = ['curb-weight','engine-size', 'length', 'width', 'horsepower', 'city-mpg', 'highway-mpg', 'wheel-base', 'bore' ]\n",
    "    dict_name = dict()\n",
    "    y = dataframe['price']\n",
    "    y_average = y.mean()\n",
    "    for number1 in range(9):\n",
    "        while (number1 + 1) < 9:\n",
    "              ## ====================Hồi quy một biến========================\n",
    "            name = list()\n",
    "            list_temp1 = list_features.copy()\n",
    "            name.append(list_temp1[number1])\n",
    "            name.append(list_temp1[number1+1])\n",
    "            x = df[name]\n",
    "\n",
    "            lm = LinearRegression()\n",
    "            lm.fit(x, y)\n",
    "            yhat = lm.predict(x)\n",
    "            MSE = mean_squared_error(y, yhat)\n",
    "\n",
    "            MSE_y_average = ((y - y_average)**2).mean()\n",
    "            R2 = 1 - (MSE / MSE_y_average)\n",
    "            strd = list_temp1[number1] + list_temp1[number1+1]\n",
    "            dict_name[ strd] = R2\n",
    "\n",
    "    return dict_name"
   ]
  },
  {
   "cell_type": "code",
   "execution_count": 61,
   "metadata": {},
   "outputs": [],
   "source": [
    "def Check_R2(dataframe):\n",
    "    list_features = ['curb-weight','engine-size', 'length', 'width', 'horsepower', 'city-mpg', 'highway-mpg', 'wheel-base', 'bore' ]\n",
    "    dict_name = dict()\n",
    "    y = dataframe['price']\n",
    "    y_average = y.mean()\n",
    "    for number1 in range(9):\n",
    "         ## ====================Hồi quy một biến========================\n",
    "        list_temp1 = list_features.copy()\n",
    "        name = list_temp1[number1]\n",
    "        x = df[[name]]\n",
    "       \n",
    "        lm = LinearRegression()\n",
    "        lm.fit(x, y)\n",
    "        yhat = lm.predict(x)\n",
    "        MSE = mean_squared_error(y, yhat)\n",
    "        \n",
    "        MSE_y_average = ((y - y_average)**2).mean()\n",
    "        R2 = 1 - (MSE / MSE_y_average)\n",
    "        dict_name[name] = R2\n",
    "            \n",
    "    return dict_name"
   ]
  },
  {
   "cell_type": "code",
   "execution_count": 62,
   "metadata": {},
   "outputs": [],
   "source": [
    "dict_R2 = Check_R2(df)"
   ]
  },
  {
   "cell_type": "code",
   "execution_count": 63,
   "metadata": {},
   "outputs": [
    {
     "name": "stdout",
     "output_type": "stream",
     "text": [
      "engine-size \n",
      "R^2 =  0.7596584287542103 \n",
      "\n",
      "curb-weight \n",
      "R^2 =  0.7052521923275914 \n",
      "\n",
      "horsepower \n",
      "R^2 =  0.6527261021204291 \n",
      "\n",
      "width \n",
      "R^2 =  0.5840854904827371 \n",
      "\n",
      "highway-mpg \n",
      "R^2 =  0.5095276715927741 \n",
      "\n",
      "length \n",
      "R^2 =  0.49276779886843025 \n",
      "\n",
      "city-mpg \n",
      "R^2 =  0.47679396946612396 \n",
      "\n",
      "wheel-base \n",
      "R^2 =  0.36276260287572804 \n",
      "\n",
      "bore \n",
      "R^2 =  0.2772114769627062 \n",
      "\n"
     ]
    }
   ],
   "source": [
    "a = sorted(dict_R2.items(), key=lambda x: x[1])    \n",
    "for k, v in a[::-1]:\n",
    "    print(k,\"\\nR^2 = \", v, \"\\n\")"
   ]
  },
  {
   "cell_type": "code",
   "execution_count": 64,
   "metadata": {},
   "outputs": [],
   "source": [
    "def CheckTwoVariable(df, n = 2):\n",
    "    list_features = ['curb-weight','engine-size', 'length', 'width', 'horsepower', 'city-mpg', 'highway-mpg', 'wheel-base', 'bore' ]\n",
    "    dict_name = dict()\n",
    "    y = df['price']\n",
    "    y_average = y.mean()\n",
    "    for index_list1 in range(9):\n",
    "        for index_list2 in range(index_list1,9):\n",
    "            temp = list_features.copy()\n",
    "            if index_list1 != index_list2:\n",
    "                temp2 = [temp[index_list1], temp[index_list2]]\n",
    "                variables = df[temp2]\n",
    "                lm_variables = LinearRegression()\n",
    "                lm_variables.fit(variables,df['price'] )\n",
    "                yhat = lm_variables.predict(variables)\n",
    "                MSE = mean_squared_error(y, yhat)\n",
    "                name = temp[index_list1] + temp[index_list2]\n",
    "                MSE_y_average = ((y - y_average)**2).mean()\n",
    "                R2 = 1 - (MSE / MSE_y_average)\n",
    "                dict_name[name] = R2\n",
    "    return dict_name"
   ]
  },
  {
   "cell_type": "code",
   "execution_count": 65,
   "metadata": {},
   "outputs": [
    {
     "name": "stdout",
     "output_type": "stream",
     "text": [
      "curb-weightengine-size \n",
      "R^2 =  0.7932436538138823 \n",
      "\n",
      "engine-sizewidth \n",
      "R^2 =  0.7902765573874925 \n",
      "\n",
      "engine-sizecity-mpg \n",
      "R^2 =  0.7825734146802041 \n",
      "\n",
      "engine-sizehighway-mpg \n",
      "R^2 =  0.782139752451274 \n",
      "\n",
      "engine-sizehorsepower \n",
      "R^2 =  0.7821155304171415 \n",
      "\n",
      "engine-sizelength \n",
      "R^2 =  0.7783512094260764 \n",
      "\n",
      "engine-sizewheel-base \n",
      "R^2 =  0.7732555812075412 \n",
      "\n",
      "curb-weighthorsepower \n",
      "R^2 =  0.7647474706472981 \n",
      "\n",
      "engine-sizebore \n",
      "R^2 =  0.7620318465133159 \n",
      "\n",
      "widthhorsepower \n",
      "R^2 =  0.7570056400881526 \n",
      "\n",
      "horsepowerwheel-base \n",
      "R^2 =  0.747523267250731 \n",
      "\n",
      "lengthhorsepower \n",
      "R^2 =  0.7267146859980564 \n",
      "\n",
      "curb-weightlength \n",
      "R^2 =  0.7113102274337874 \n",
      "\n",
      "curb-weightwidth \n",
      "R^2 =  0.7108832569812467 \n",
      "\n",
      "curb-weightwheel-base \n",
      "R^2 =  0.7106754822374538 \n",
      "\n",
      "curb-weightcity-mpg \n",
      "R^2 =  0.7099382484089745 \n",
      "\n",
      "curb-weighthighway-mpg \n",
      "R^2 =  0.7080665644477688 \n",
      "\n",
      "curb-weightbore \n",
      "R^2 =  0.7052550386965795 \n",
      "\n",
      "horsepowerhighway-mpg \n",
      "R^2 =  0.6620354167205591 \n",
      "\n",
      "horsepowerbore \n",
      "R^2 =  0.6609934219200381 \n",
      "\n",
      "horsepowercity-mpg \n",
      "R^2 =  0.6545212050499389 \n",
      "\n",
      "widthcity-mpg \n",
      "R^2 =  0.6508737443193395 \n",
      "\n",
      "widthhighway-mpg \n",
      "R^2 =  0.6489436256883869 \n",
      "\n",
      "widthbore \n",
      "R^2 =  0.600648224365852 \n",
      "\n",
      "lengthwidth \n",
      "R^2 =  0.5925243218639071 \n",
      "\n",
      "widthwheel-base \n",
      "R^2 =  0.5849659070775814 \n",
      "\n",
      "lengthhighway-mpg \n",
      "R^2 =  0.5843189981181975 \n",
      "\n",
      "lengthcity-mpg \n",
      "R^2 =  0.5754636076548696 \n",
      "\n",
      "highway-mpgwheel-base \n",
      "R^2 =  0.5693938339051592 \n",
      "\n",
      "city-mpgwheel-base \n",
      "R^2 =  0.5672272749957181 \n",
      "\n",
      "highway-mpgbore \n",
      "R^2 =  0.5258264942914852 \n",
      "\n",
      "city-mpghighway-mpg \n",
      "R^2 =  0.5099430479177463 \n",
      "\n",
      "lengthbore \n",
      "R^2 =  0.5094520311772971 \n",
      "\n",
      "city-mpgbore \n",
      "R^2 =  0.5000072713659478 \n",
      "\n",
      "lengthwheel-base \n",
      "R^2 =  0.49321472298157554 \n",
      "\n",
      "wheel-basebore \n",
      "R^2 =  0.43445035753167205 \n",
      "\n"
     ]
    }
   ],
   "source": [
    "dict_r22 = CheckTwoVariable(df, n= 2)\n",
    "a = sorted(dict_r22.items(), key=lambda x: x[1])    \n",
    "for k, v in a[::-1]:\n",
    "    print(k,\"\\nR^2 = \", v, \"\\n\")"
   ]
  },
  {
   "cell_type": "code",
   "execution_count": null,
   "metadata": {},
   "outputs": [],
   "source": []
  },
  {
   "cell_type": "code",
   "execution_count": 66,
   "metadata": {},
   "outputs": [],
   "source": [
    "def CheckTwoVariable(df, n = 3):\n",
    "    list_features = ['curb-weight','engine-size', 'length', 'width', 'horsepower', 'city-mpg', 'highway-mpg', 'wheel-base', 'bore' ]\n",
    "    dict_name = dict()\n",
    "    y = df['price']\n",
    "    y_average = y.mean()\n",
    "    for index_list1 in range(9):\n",
    "        for index_list2 in range(index_list1+1,9):\n",
    "            for index_list3 in range(index_list2+1, 9):\n",
    "                temp = list_features.copy()\n",
    "                temp2 = [temp[index_list1], temp[index_list2],temp[index_list3] ]\n",
    "                variables = df[temp2]\n",
    "                lm_variables = LinearRegression()\n",
    "                lm_variables.fit(variables,df['price'] )\n",
    "                yhat = lm_variables.predict(variables)\n",
    "                MSE = mean_squared_error(y, yhat)\n",
    "                name = temp[index_list1] +\" \"+ temp[index_list2] +\" \"+ temp[index_list3]\n",
    "                MSE_y_average = ((y - y_average)**2).mean()\n",
    "                R2 = 1 - (MSE / MSE_y_average)\n",
    "                dict_name[name] = R2\n",
    "    return dict_name"
   ]
  },
  {
   "cell_type": "code",
   "execution_count": 67,
   "metadata": {},
   "outputs": [
    {
     "name": "stdout",
     "output_type": "stream",
     "text": [
      "engine-size width horsepower \n",
      "R^2 =  0.8099266299420065 \n",
      "\n",
      "curb-weight engine-size horsepower \n",
      "R^2 =  0.8050272314190564 \n",
      "\n",
      "engine-size horsepower wheel-base \n",
      "R^2 =  0.804288080511649 \n",
      "\n",
      "engine-size width city-mpg \n",
      "R^2 =  0.8008378000318495 \n",
      "\n",
      "engine-size width highway-mpg \n",
      "R^2 =  0.7986993073386165 \n",
      "\n",
      "engine-size length horsepower \n",
      "R^2 =  0.798506438351451 \n",
      "\n",
      "curb-weight engine-size width \n",
      "R^2 =  0.7983351327942961 \n",
      "\n",
      "curb-weight engine-size city-mpg \n",
      "R^2 =  0.7974376618781068 \n",
      "\n",
      "curb-weight engine-size highway-mpg \n",
      "R^2 =  0.7959861376876213 \n",
      "\n",
      "curb-weight engine-size bore \n",
      "R^2 =  0.7935317786704739 \n",
      "\n",
      "curb-weight engine-size length \n",
      "R^2 =  0.7932878967673899 \n",
      "\n",
      "curb-weight engine-size wheel-base \n",
      "R^2 =  0.7932574862348389 \n",
      "\n",
      "engine-size city-mpg wheel-base \n",
      "R^2 =  0.7908958804856129 \n",
      "\n",
      "engine-size length width \n",
      "R^2 =  0.7906026589327959 \n",
      "\n",
      "engine-size width wheel-base \n",
      "R^2 =  0.790324891820391 \n",
      "\n",
      "engine-size width bore \n",
      "R^2 =  0.7903218988567955 \n",
      "\n",
      "engine-size length city-mpg \n",
      "R^2 =  0.789073605967897 \n",
      "\n",
      "engine-size highway-mpg wheel-base \n",
      "R^2 =  0.7884951032059537 \n",
      "\n",
      "engine-size length highway-mpg \n",
      "R^2 =  0.7881081239359772 \n",
      "\n",
      "engine-size horsepower highway-mpg \n",
      "R^2 =  0.7879013177119579 \n",
      "\n",
      "engine-size horsepower city-mpg \n",
      "R^2 =  0.7870040883645806 \n",
      "\n",
      "engine-size city-mpg highway-mpg \n",
      "R^2 =  0.7829206219370007 \n",
      "\n",
      "engine-size city-mpg bore \n",
      "R^2 =  0.7825862796510252 \n",
      "\n",
      "engine-size horsepower bore \n",
      "R^2 =  0.7824524195041151 \n",
      "\n",
      "engine-size highway-mpg bore \n",
      "R^2 =  0.7821501929937911 \n",
      "\n",
      "engine-size length wheel-base \n",
      "R^2 =  0.7784941983144498 \n",
      "\n",
      "engine-size length bore \n",
      "R^2 =  0.7783520776057355 \n",
      "\n",
      "curb-weight width horsepower \n",
      "R^2 =  0.7756844806624726 \n",
      "\n",
      "engine-size wheel-base bore \n",
      "R^2 =  0.7737199708260156 \n",
      "\n",
      "curb-weight horsepower city-mpg \n",
      "R^2 =  0.7716034995946982 \n",
      "\n",
      "curb-weight horsepower highway-mpg \n",
      "R^2 =  0.7707318127259485 \n",
      "\n",
      "curb-weight horsepower wheel-base \n",
      "R^2 =  0.7687701237556658 \n",
      "\n",
      "curb-weight horsepower bore \n",
      "R^2 =  0.766046811475701 \n",
      "\n",
      "curb-weight length horsepower \n",
      "R^2 =  0.7647881712152902 \n",
      "\n",
      "width horsepower wheel-base \n",
      "R^2 =  0.7644324504398288 \n",
      "\n",
      "width horsepower city-mpg \n",
      "R^2 =  0.759253926063317 \n",
      "\n",
      "length width horsepower \n",
      "R^2 =  0.7583762233285564 \n",
      "\n",
      "width horsepower highway-mpg \n",
      "R^2 =  0.7580361588063858 \n",
      "\n",
      "width horsepower bore \n",
      "R^2 =  0.7570453289101009 \n",
      "\n",
      "horsepower city-mpg wheel-base \n",
      "R^2 =  0.7511247525587337 \n",
      "\n",
      "horsepower highway-mpg wheel-base \n",
      "R^2 =  0.7495986568725787 \n",
      "\n",
      "horsepower wheel-base bore \n",
      "R^2 =  0.7478161748823735 \n",
      "\n",
      "length horsepower wheel-base \n",
      "R^2 =  0.7476566213118818 \n",
      "\n",
      "length horsepower city-mpg \n",
      "R^2 =  0.7330893633333284 \n",
      "\n",
      "length horsepower highway-mpg \n",
      "R^2 =  0.7285089659031323 \n",
      "\n",
      "length horsepower bore \n",
      "R^2 =  0.7271514874510067 \n",
      "\n",
      "curb-weight width wheel-base \n",
      "R^2 =  0.7252284918757704 \n",
      "\n",
      "curb-weight length width \n",
      "R^2 =  0.7247064691748822 \n",
      "\n",
      "curb-weight width city-mpg \n",
      "R^2 =  0.7163040479237521 \n",
      "\n",
      "curb-weight length city-mpg \n",
      "R^2 =  0.7162696630909026 \n",
      "\n",
      "curb-weight length highway-mpg \n",
      "R^2 =  0.7141351322534069 \n",
      "\n",
      "curb-weight width highway-mpg \n",
      "R^2 =  0.7139669108364064 \n",
      "\n",
      "curb-weight city-mpg wheel-base \n",
      "R^2 =  0.7133367678253484 \n",
      "\n",
      "curb-weight highway-mpg wheel-base \n",
      "R^2 =  0.7122785050056757 \n",
      "\n",
      "curb-weight length wheel-base \n",
      "R^2 =  0.71227620947758 \n",
      "\n",
      "curb-weight length bore \n",
      "R^2 =  0.711390857532493 \n",
      "\n",
      "curb-weight city-mpg highway-mpg \n",
      "R^2 =  0.7109237990547803 \n",
      "\n",
      "curb-weight width bore \n",
      "R^2 =  0.71088952591593 \n",
      "\n",
      "curb-weight wheel-base bore \n",
      "R^2 =  0.7106784301886555 \n",
      "\n",
      "curb-weight city-mpg bore \n",
      "R^2 =  0.7101843802548856 \n",
      "\n",
      "curb-weight highway-mpg bore \n",
      "R^2 =  0.708200125210138 \n",
      "\n",
      "horsepower city-mpg highway-mpg \n",
      "R^2 =  0.6762317374876674 \n",
      "\n",
      "horsepower highway-mpg bore \n",
      "R^2 =  0.6663740080216431 \n",
      "\n",
      "horsepower city-mpg bore \n",
      "R^2 =  0.6613641248222966 \n",
      "\n",
      "width city-mpg bore \n",
      "R^2 =  0.6523464618842358 \n",
      "\n",
      "width city-mpg highway-mpg \n",
      "R^2 =  0.6515346458594855 \n",
      "\n",
      "width city-mpg wheel-base \n",
      "R^2 =  0.6510323168499235 \n",
      "\n",
      "length width city-mpg \n",
      "R^2 =  0.6509001986346696 \n",
      "\n",
      "width highway-mpg bore \n",
      "R^2 =  0.6506382396486332 \n",
      "\n",
      "width highway-mpg wheel-base \n",
      "R^2 =  0.649717440694882 \n",
      "\n",
      "length width highway-mpg \n",
      "R^2 =  0.6490270849733351 \n",
      "\n",
      "length width bore \n",
      "R^2 =  0.6036346770220686 \n",
      "\n",
      "length width wheel-base \n",
      "R^2 =  0.6033174577911746 \n",
      "\n",
      "width wheel-base bore \n",
      "R^2 =  0.6022996197337322 \n",
      "\n",
      "length highway-mpg bore \n",
      "R^2 =  0.5861785508776535 \n",
      "\n",
      "length highway-mpg wheel-base \n",
      "R^2 =  0.5857103988027776 \n",
      "\n",
      "length city-mpg highway-mpg \n",
      "R^2 =  0.5843190018478386 \n",
      "\n",
      "length city-mpg wheel-base \n",
      "R^2 =  0.5798757981403151 \n",
      "\n",
      "length city-mpg bore \n",
      "R^2 =  0.5776861952469698 \n",
      "\n",
      "highway-mpg wheel-base bore \n",
      "R^2 =  0.5747817863269367 \n",
      "\n",
      "city-mpg wheel-base bore \n",
      "R^2 =  0.5722736582771102 \n",
      "\n",
      "city-mpg highway-mpg wheel-base \n",
      "R^2 =  0.5717495391646668 \n",
      "\n",
      "city-mpg highway-mpg bore \n",
      "R^2 =  0.5264010494385893 \n",
      "\n",
      "length wheel-base bore \n",
      "R^2 =  0.5095097509324784 \n",
      "\n"
     ]
    }
   ],
   "source": [
    "dict_r23 = CheckTwoVariable(df, n= 3)\n",
    "a = sorted(dict_r23.items(), key=lambda x: x[1])    \n",
    "for k, v in a[::-1]:\n",
    "    print(k,\"\\nR^2 = \", v, \"\\n\")"
   ]
  },
  {
   "cell_type": "code",
   "execution_count": 68,
   "metadata": {},
   "outputs": [],
   "source": [
    "def CheckTwoVariable(df, n = 4):\n",
    "    list_features = ['curb-weight','engine-size', 'length', 'width', 'horsepower', 'city-mpg', 'highway-mpg', 'wheel-base', 'bore' ]\n",
    "    dict_name = dict()\n",
    "    y = df['price']\n",
    "    y_average = y.mean()\n",
    "    for index_list1 in range(9):\n",
    "        for index_list2 in range(index_list1+1,9):\n",
    "            for index_list3 in range(index_list2+1, 9):\n",
    "                for index_list4 in range(index_list3+1, 9):\n",
    "                    temp = list_features.copy()\n",
    "                    temp2 = [temp[index_list1], temp[index_list2],temp[index_list3], temp[index_list4] ]\n",
    "                    variables = df[temp2]\n",
    "                    lm_variables = LinearRegression()\n",
    "                    lm_variables.fit(variables,df['price'] )\n",
    "                    yhat = lm_variables.predict(variables)\n",
    "                    MSE = mean_squared_error(y, yhat)\n",
    "                    name = temp[index_list1] +\" \"+ temp[index_list2] +\" \"+ temp[index_list3] +\" \"+ temp[index_list4]\n",
    "                    MSE_y_average = ((y - y_average)**2).mean()\n",
    "                    R2 = 1 - (MSE / MSE_y_average)\n",
    "                    dict_name[name] = R2\n",
    "    return dict_name"
   ]
  },
  {
   "cell_type": "code",
   "execution_count": 69,
   "metadata": {},
   "outputs": [
    {
     "name": "stdout",
     "output_type": "stream",
     "text": [
      "curb-weight engine-size width horsepower \n",
      "R^2 =  0.8127611898063525 \n",
      "\n",
      "engine-size width horsepower wheel-base \n",
      "R^2 =  0.8116346682371335 \n",
      "\n",
      "engine-size width horsepower bore \n",
      "R^2 =  0.8103847888600958 \n",
      "\n",
      "engine-size length width horsepower \n",
      "R^2 =  0.8101281760200802 \n",
      "\n",
      "engine-size width horsepower city-mpg \n",
      "R^2 =  0.8100467084126608 \n",
      "\n",
      "engine-size width horsepower highway-mpg \n",
      "R^2 =  0.8099773060788329 \n",
      "\n",
      "curb-weight engine-size horsepower wheel-base \n",
      "R^2 =  0.8081055811709054 \n",
      "\n",
      "curb-weight engine-size horsepower bore \n",
      "R^2 =  0.8060219960920519 \n",
      "\n",
      "curb-weight engine-size length horsepower \n",
      "R^2 =  0.8052840243987951 \n",
      "\n",
      "curb-weight engine-size horsepower highway-mpg \n",
      "R^2 =  0.8051642535047185 \n",
      "\n",
      "curb-weight engine-size horsepower city-mpg \n",
      "R^2 =  0.8050727188553577 \n",
      "\n",
      "engine-size horsepower wheel-base bore \n",
      "R^2 =  0.8049634816982436 \n",
      "\n",
      "engine-size horsepower city-mpg wheel-base \n",
      "R^2 =  0.804365390709989 \n",
      "\n",
      "engine-size length horsepower wheel-base \n",
      "R^2 =  0.8043524914579916 \n",
      "\n",
      "engine-size horsepower highway-mpg wheel-base \n",
      "R^2 =  0.8043124922852682 \n",
      "\n",
      "curb-weight engine-size width city-mpg \n",
      "R^2 =  0.8031918680765122 \n",
      "\n",
      "engine-size width city-mpg bore \n",
      "R^2 =  0.8014331717770515 \n",
      "\n",
      "curb-weight engine-size width highway-mpg \n",
      "R^2 =  0.8013305309272999 \n",
      "\n",
      "engine-size width city-mpg highway-mpg \n",
      "R^2 =  0.8011857691940256 \n",
      "\n",
      "engine-size length width city-mpg \n",
      "R^2 =  0.8010235935810281 \n",
      "\n",
      "engine-size width city-mpg wheel-base \n",
      "R^2 =  0.8008404694495314 \n",
      "\n",
      "curb-weight engine-size width wheel-base \n",
      "R^2 =  0.8000522717794838 \n",
      "\n",
      "curb-weight engine-size length width \n",
      "R^2 =  0.7999196256673751 \n",
      "\n",
      "engine-size length horsepower bore \n",
      "R^2 =  0.7993788747482593 \n",
      "\n",
      "engine-size width highway-mpg bore \n",
      "R^2 =  0.7991055353770178 \n",
      "\n",
      "engine-size length width highway-mpg \n",
      "R^2 =  0.7987802084199598 \n",
      "\n",
      "engine-size width highway-mpg wheel-base \n",
      "R^2 =  0.7987646336453583 \n",
      "\n",
      "curb-weight engine-size width bore \n",
      "R^2 =  0.7986486676915749 \n",
      "\n",
      "engine-size length horsepower highway-mpg \n",
      "R^2 =  0.7986359604911968 \n",
      "\n",
      "engine-size length horsepower city-mpg \n",
      "R^2 =  0.7985401327228576 \n",
      "\n",
      "curb-weight engine-size city-mpg bore \n",
      "R^2 =  0.7983685733863908 \n",
      "\n",
      "curb-weight engine-size city-mpg highway-mpg \n",
      "R^2 =  0.7979905374727878 \n",
      "\n",
      "curb-weight engine-size city-mpg wheel-base \n",
      "R^2 =  0.7976143977390592 \n",
      "\n",
      "curb-weight engine-size length city-mpg \n",
      "R^2 =  0.7975103203410023 \n",
      "\n",
      "curb-weight engine-size highway-mpg bore \n",
      "R^2 =  0.796714355070541 \n",
      "\n",
      "curb-weight engine-size length highway-mpg \n",
      "R^2 =  0.796031701826334 \n",
      "\n",
      "curb-weight engine-size highway-mpg wheel-base \n",
      "R^2 =  0.7960271602875884 \n",
      "\n",
      "curb-weight engine-size length bore \n",
      "R^2 =  0.793548605007566 \n",
      "\n",
      "curb-weight engine-size wheel-base bore \n",
      "R^2 =  0.7935441272143366 \n",
      "\n",
      "curb-weight engine-size length wheel-base \n",
      "R^2 =  0.7932881382406357 \n",
      "\n",
      "engine-size city-mpg wheel-base bore \n",
      "R^2 =  0.7913578810544548 \n",
      "\n",
      "engine-size length width wheel-base \n",
      "R^2 =  0.7911109710773552 \n",
      "\n",
      "engine-size city-mpg highway-mpg wheel-base \n",
      "R^2 =  0.7910278042415653 \n",
      "\n",
      "engine-size length city-mpg wheel-base \n",
      "R^2 =  0.7910192949031611 \n",
      "\n",
      "engine-size length width bore \n",
      "R^2 =  0.7906057013270263 \n",
      "\n",
      "engine-size width wheel-base bore \n",
      "R^2 =  0.7903808016015651 \n",
      "\n",
      "engine-size length city-mpg bore \n",
      "R^2 =  0.7897020950928708 \n",
      "\n",
      "engine-size length city-mpg highway-mpg \n",
      "R^2 =  0.7890848643137172 \n",
      "\n",
      "engine-size length highway-mpg wheel-base \n",
      "R^2 =  0.7890319836702152 \n",
      "\n",
      "engine-size highway-mpg wheel-base bore \n",
      "R^2 =  0.7887635234882143 \n",
      "\n",
      "engine-size length highway-mpg bore \n",
      "R^2 =  0.788637451747852 \n",
      "\n",
      "engine-size horsepower highway-mpg bore \n",
      "R^2 =  0.7879125446474267 \n",
      "\n",
      "engine-size horsepower city-mpg highway-mpg \n",
      "R^2 =  0.7879056810378535 \n",
      "\n",
      "engine-size horsepower city-mpg bore \n",
      "R^2 =  0.7870064776674833 \n",
      "\n",
      "engine-size city-mpg highway-mpg bore \n",
      "R^2 =  0.7829429106166051 \n",
      "\n",
      "curb-weight width horsepower city-mpg \n",
      "R^2 =  0.7825319661605934 \n",
      "\n",
      "curb-weight width horsepower highway-mpg \n",
      "R^2 =  0.7821639704201524 \n",
      "\n",
      "engine-size length wheel-base bore \n",
      "R^2 =  0.7784942314794917 \n",
      "\n",
      "curb-weight length width horsepower \n",
      "R^2 =  0.7782260839261476 \n",
      "\n",
      "curb-weight width horsepower bore \n",
      "R^2 =  0.7772031421807668 \n",
      "\n",
      "curb-weight horsepower city-mpg wheel-base \n",
      "R^2 =  0.7762992878203632 \n",
      "\n",
      "curb-weight width horsepower wheel-base \n",
      "R^2 =  0.7760015136561117 \n",
      "\n",
      "curb-weight horsepower highway-mpg wheel-base \n",
      "R^2 =  0.7758130046214642 \n",
      "\n",
      "curb-weight horsepower city-mpg bore \n",
      "R^2 =  0.7721805682060084 \n",
      "\n",
      "curb-weight length horsepower city-mpg \n",
      "R^2 =  0.7717977740891508 \n",
      "\n",
      "curb-weight length horsepower wheel-base \n",
      "R^2 =  0.771792018156867 \n",
      "\n",
      "curb-weight horsepower city-mpg highway-mpg \n",
      "R^2 =  0.7716179881396916 \n",
      "\n",
      "curb-weight horsepower highway-mpg bore \n",
      "R^2 =  0.7714115092234692 \n",
      "\n",
      "curb-weight length horsepower highway-mpg \n",
      "R^2 =  0.7707859114444309 \n",
      "\n",
      "curb-weight horsepower wheel-base bore \n",
      "R^2 =  0.7705053976145284 \n",
      "\n",
      "width horsepower city-mpg wheel-base \n",
      "R^2 =  0.7685401955828107 \n",
      "\n",
      "width horsepower highway-mpg wheel-base \n",
      "R^2 =  0.7674292011612688 \n",
      "\n",
      "curb-weight length horsepower bore \n",
      "R^2 =  0.7660469462540506 \n",
      "\n",
      "length width horsepower wheel-base \n",
      "R^2 =  0.7651015216441515 \n",
      "\n",
      "width horsepower wheel-base bore \n",
      "R^2 =  0.7649599783685541 \n",
      "\n",
      "length width horsepower city-mpg \n",
      "R^2 =  0.7624904717163158 \n",
      "\n",
      "length width horsepower highway-mpg \n",
      "R^2 =  0.7605451408289065 \n",
      "\n",
      "width horsepower city-mpg highway-mpg \n",
      "R^2 =  0.7601075898025067 \n",
      "\n",
      "width horsepower city-mpg bore \n",
      "R^2 =  0.7592632185240424 \n",
      "\n",
      "length width horsepower bore \n",
      "R^2 =  0.7586850808480101 \n",
      "\n",
      "width horsepower highway-mpg bore \n",
      "R^2 =  0.7580361595457227 \n",
      "\n",
      "length horsepower city-mpg wheel-base \n",
      "R^2 =  0.7520908153297586 \n",
      "\n",
      "horsepower city-mpg highway-mpg wheel-base \n",
      "R^2 =  0.7516906996863337 \n",
      "\n",
      "horsepower city-mpg wheel-base bore \n",
      "R^2 =  0.7511751309891328 \n",
      "\n",
      "length horsepower highway-mpg wheel-base \n",
      "R^2 =  0.7501189661365953 \n",
      "\n",
      "horsepower highway-mpg wheel-base bore \n",
      "R^2 =  0.7496981660005804 \n",
      "\n",
      "length horsepower wheel-base bore \n",
      "R^2 =  0.7480632843696542 \n",
      "\n",
      "length horsepower city-mpg highway-mpg \n",
      "R^2 =  0.7379174357854454 \n",
      "\n",
      "length horsepower city-mpg bore \n",
      "R^2 =  0.7332386430288492 \n",
      "\n",
      "curb-weight length width city-mpg \n",
      "R^2 =  0.7311694099339887 \n",
      "\n",
      "curb-weight length width wheel-base \n",
      "R^2 =  0.728925524668417 \n",
      "\n",
      "length horsepower highway-mpg bore \n",
      "R^2 =  0.7287714187526672 \n",
      "\n",
      "curb-weight length width highway-mpg \n",
      "R^2 =  0.7279982308709483 \n",
      "\n",
      "curb-weight width city-mpg wheel-base \n",
      "R^2 =  0.7272799095350653 \n",
      "\n",
      "curb-weight width highway-mpg wheel-base \n",
      "R^2 =  0.7263280624345346 \n",
      "\n",
      "curb-weight width wheel-base bore \n",
      "R^2 =  0.7252387878350927 \n",
      "\n",
      "curb-weight length width bore \n",
      "R^2 =  0.7249175093336593 \n",
      "\n",
      "curb-weight width city-mpg highway-mpg \n",
      "R^2 =  0.7177720252405383 \n",
      "\n",
      "curb-weight length city-mpg highway-mpg \n",
      "R^2 =  0.7176003647698757 \n",
      "\n",
      "curb-weight width city-mpg bore \n",
      "R^2 =  0.7166163003558107 \n",
      "\n",
      "curb-weight length city-mpg wheel-base \n",
      "R^2 =  0.7163188864839349 \n",
      "\n",
      "curb-weight length city-mpg bore \n",
      "R^2 =  0.7162956201393019 \n",
      "\n",
      "curb-weight length highway-mpg wheel-base \n",
      "R^2 =  0.7144855342654604 \n",
      "\n",
      "curb-weight length highway-mpg bore \n",
      "R^2 =  0.7141357882756538 \n",
      "\n",
      "curb-weight width highway-mpg bore \n",
      "R^2 =  0.7141326713837851 \n",
      "\n",
      "curb-weight city-mpg highway-mpg wheel-base \n",
      "R^2 =  0.7138745568982228 \n",
      "\n",
      "curb-weight city-mpg wheel-base bore \n",
      "R^2 =  0.7134965216389224 \n",
      "\n",
      "curb-weight highway-mpg wheel-base bore \n",
      "R^2 =  0.7123651438654416 \n",
      "\n",
      "curb-weight length wheel-base bore \n",
      "R^2 =  0.712305968225881 \n",
      "\n",
      "curb-weight city-mpg highway-mpg bore \n",
      "R^2 =  0.7111837892135078 \n",
      "\n",
      "horsepower city-mpg highway-mpg bore \n",
      "R^2 =  0.6803914361270983 \n",
      "\n",
      "width city-mpg highway-mpg bore \n",
      "R^2 =  0.6529348264993178 \n",
      "\n",
      "width city-mpg wheel-base bore \n",
      "R^2 =  0.6526407279211628 \n",
      "\n",
      "length width city-mpg bore \n",
      "R^2 =  0.6523566326577036 \n",
      "\n",
      "width city-mpg highway-mpg wheel-base \n",
      "R^2 =  0.6518538840627901 \n",
      "\n",
      "width highway-mpg wheel-base bore \n",
      "R^2 =  0.65164752997535 \n",
      "\n",
      "length width city-mpg highway-mpg \n",
      "R^2 =  0.6515567165156365 \n",
      "\n",
      "length width city-mpg wheel-base \n",
      "R^2 =  0.651342181954252 \n",
      "\n",
      "length width highway-mpg wheel-base \n",
      "R^2 =  0.6508807659213949 \n",
      "\n",
      "length width highway-mpg bore \n",
      "R^2 =  0.6506382469560363 \n",
      "\n",
      "length width wheel-base bore \n",
      "R^2 =  0.6119282040856749 \n",
      "\n",
      "length highway-mpg wheel-base bore \n",
      "R^2 =  0.5877498609389171 \n",
      "\n",
      "length city-mpg highway-mpg bore \n",
      "R^2 =  0.586183851996746 \n",
      "\n",
      "length city-mpg highway-mpg wheel-base \n",
      "R^2 =  0.585932333806827 \n",
      "\n",
      "length city-mpg wheel-base bore \n",
      "R^2 =  0.5822324626483543 \n",
      "\n",
      "city-mpg highway-mpg wheel-base bore \n",
      "R^2 =  0.5765118791753645 \n",
      "\n"
     ]
    }
   ],
   "source": [
    "dict_r24 = CheckTwoVariable(df, n= 4)\n",
    "a = sorted(dict_r24.items(), key=lambda x: x[1])    \n",
    "for k, v in a[::-1]:\n",
    "    print(k,\"\\nR^2 = \", v, \"\\n\")"
   ]
  },
  {
   "cell_type": "code",
   "execution_count": 70,
   "metadata": {},
   "outputs": [],
   "source": [
    "def CheckTwoVariable(df, n = 5):\n",
    "    list_features = ['curb-weight','engine-size', 'length', 'width', 'horsepower', 'city-mpg', 'highway-mpg', 'wheel-base', 'bore' ]\n",
    "    dict_name = dict()\n",
    "    y = df['price']\n",
    "    y_average = y.mean()\n",
    "    for index_list1 in range(9):\n",
    "        for index_list2 in range(index_list1+1,9):\n",
    "            for index_list3 in range(index_list2+1, 9):\n",
    "                for index_list4 in range(index_list3+1, 9):\n",
    "                    for index_list5 in range(index_list4+1, 9):\n",
    "                        temp = list_features.copy()\n",
    "                        temp2 = [temp[index_list1], temp[index_list2],temp[index_list3], temp[index_list4], temp[index_list5] ]\n",
    "                        variables = df[temp2]\n",
    "                        lm_variables = LinearRegression()\n",
    "                        lm_variables.fit(variables,df['price'] )\n",
    "                        yhat = lm_variables.predict(variables)\n",
    "                        MSE = mean_squared_error(y, yhat)\n",
    "                        name = temp[index_list1] +\" \"+ temp[index_list2] +\" \"+ temp[index_list3] +\" \"+ temp[index_list4] +\" \"+ temp[index_list5]\n",
    "                        MSE_y_average = ((y - y_average)**2).mean()\n",
    "                        R2 = 1 - (MSE / MSE_y_average)\n",
    "                        dict_name[name] = R2\n",
    "    return dict_name"
   ]
  },
  {
   "cell_type": "code",
   "execution_count": 71,
   "metadata": {},
   "outputs": [
    {
     "name": "stdout",
     "output_type": "stream",
     "text": [
      "curb-weight engine-size width horsepower bore \n",
      "R^2 =  0.8139293297473877 \n",
      "\n",
      "curb-weight engine-size length width horsepower \n",
      "R^2 =  0.8131862206713862 \n",
      "\n",
      "curb-weight engine-size width horsepower wheel-base \n",
      "R^2 =  0.8130677160724191 \n",
      "\n",
      "curb-weight engine-size width horsepower highway-mpg \n",
      "R^2 =  0.8130542941797334 \n",
      "\n",
      "curb-weight engine-size width horsepower city-mpg \n",
      "R^2 =  0.812856832816127 \n",
      "\n",
      "engine-size width horsepower wheel-base bore \n",
      "R^2 =  0.8124933318178705 \n",
      "\n",
      "engine-size length width horsepower wheel-base \n",
      "R^2 =  0.8119186660391796 \n",
      "\n",
      "engine-size width horsepower highway-mpg wheel-base \n",
      "R^2 =  0.8116592501071853 \n",
      "\n",
      "engine-size width horsepower city-mpg wheel-base \n",
      "R^2 =  0.8116354922379061 \n",
      "\n",
      "engine-size length width horsepower bore \n",
      "R^2 =  0.810827518340577 \n",
      "\n",
      "engine-size width horsepower city-mpg bore \n",
      "R^2 =  0.8106427181636566 \n",
      "\n",
      "engine-size width horsepower highway-mpg bore \n",
      "R^2 =  0.8105259191756558 \n",
      "\n",
      "engine-size length width horsepower city-mpg \n",
      "R^2 =  0.8101636446321975 \n",
      "\n",
      "engine-size length width horsepower highway-mpg \n",
      "R^2 =  0.8101336428750823 \n",
      "\n",
      "engine-size width horsepower city-mpg highway-mpg \n",
      "R^2 =  0.8101029502741364 \n",
      "\n",
      "curb-weight engine-size horsepower wheel-base bore \n",
      "R^2 =  0.8094382496745341 \n",
      "\n",
      "curb-weight engine-size length horsepower wheel-base \n",
      "R^2 =  0.8085880566529712 \n",
      "\n",
      "curb-weight engine-size horsepower highway-mpg wheel-base \n",
      "R^2 =  0.8084413568327236 \n",
      "\n",
      "curb-weight engine-size horsepower city-mpg wheel-base \n",
      "R^2 =  0.8082333827556364 \n",
      "\n",
      "curb-weight engine-size length horsepower bore \n",
      "R^2 =  0.8065178876616093 \n",
      "\n",
      "curb-weight engine-size horsepower highway-mpg bore \n",
      "R^2 =  0.806079938672959 \n",
      "\n",
      "curb-weight engine-size horsepower city-mpg bore \n",
      "R^2 =  0.8060259740402069 \n",
      "\n",
      "curb-weight engine-size length horsepower highway-mpg \n",
      "R^2 =  0.8054869229514319 \n",
      "\n",
      "curb-weight engine-size length horsepower city-mpg \n",
      "R^2 =  0.8053931167305796 \n",
      "\n",
      "curb-weight engine-size horsepower city-mpg highway-mpg \n",
      "R^2 =  0.8052464019149618 \n",
      "\n",
      "engine-size length horsepower wheel-base bore \n",
      "R^2 =  0.8051625229187739 \n",
      "\n",
      "engine-size horsepower city-mpg wheel-base bore \n",
      "R^2 =  0.8051568672703129 \n",
      "\n",
      "curb-weight engine-size length width city-mpg \n",
      "R^2 =  0.8051485456562375 \n",
      "\n",
      "engine-size horsepower highway-mpg wheel-base bore \n",
      "R^2 =  0.8050544056164334 \n",
      "\n",
      "engine-size horsepower city-mpg highway-mpg wheel-base \n",
      "R^2 =  0.8044243450324051 \n",
      "\n",
      "engine-size length horsepower city-mpg wheel-base \n",
      "R^2 =  0.8043957242714239 \n",
      "\n",
      "engine-size length horsepower highway-mpg wheel-base \n",
      "R^2 =  0.8043620417418262 \n",
      "\n",
      "curb-weight engine-size width city-mpg bore \n",
      "R^2 =  0.8042384924267608 \n",
      "\n",
      "curb-weight engine-size width city-mpg highway-mpg \n",
      "R^2 =  0.8040979432488262 \n",
      "\n",
      "curb-weight engine-size width city-mpg wheel-base \n",
      "R^2 =  0.8037932474448601 \n",
      "\n",
      "curb-weight engine-size length width highway-mpg \n",
      "R^2 =  0.8029902744300528 \n",
      "\n",
      "curb-weight engine-size width highway-mpg wheel-base \n",
      "R^2 =  0.8023034349330731 \n",
      "\n",
      "curb-weight engine-size width highway-mpg bore \n",
      "R^2 =  0.8021255486440201 \n",
      "\n",
      "engine-size width city-mpg highway-mpg bore \n",
      "R^2 =  0.8017630730453497 \n",
      "\n",
      "engine-size length width city-mpg bore \n",
      "R^2 =  0.8015087243554385 \n",
      "\n",
      "engine-size width city-mpg wheel-base bore \n",
      "R^2 =  0.801435007161363 \n",
      "\n",
      "engine-size length width city-mpg highway-mpg \n",
      "R^2 =  0.801365579830197 \n",
      "\n",
      "engine-size width city-mpg highway-mpg wheel-base \n",
      "R^2 =  0.8011900881602623 \n",
      "\n",
      "engine-size length width city-mpg wheel-base \n",
      "R^2 =  0.8011163035718698 \n",
      "\n",
      "curb-weight engine-size length width wheel-base \n",
      "R^2 =  0.8004986876682043 \n",
      "\n",
      "curb-weight engine-size width wheel-base bore \n",
      "R^2 =  0.8003537684973131 \n",
      "\n",
      "curb-weight engine-size length width bore \n",
      "R^2 =  0.8000484713369043 \n",
      "\n",
      "engine-size length horsepower highway-mpg bore \n",
      "R^2 =  0.7996071434744385 \n",
      "\n",
      "engine-size length horsepower city-mpg bore \n",
      "R^2 =  0.7994714264122977 \n",
      "\n",
      "engine-size width highway-mpg wheel-base bore \n",
      "R^2 =  0.7991422046121641 \n",
      "\n",
      "engine-size length width highway-mpg bore \n",
      "R^2 =  0.7991282325145592 \n",
      "\n",
      "curb-weight engine-size city-mpg highway-mpg bore \n",
      "R^2 =  0.7989396399423052 \n",
      "\n",
      "engine-size length width highway-mpg wheel-base \n",
      "R^2 =  0.7987898459095939 \n",
      "\n",
      "engine-size length horsepower city-mpg highway-mpg \n",
      "R^2 =  0.7987463723295523 \n",
      "\n",
      "curb-weight engine-size city-mpg wheel-base bore \n",
      "R^2 =  0.7986045874643808 \n",
      "\n",
      "curb-weight engine-size length city-mpg bore \n",
      "R^2 =  0.7983844233070352 \n",
      "\n",
      "curb-weight engine-size city-mpg highway-mpg wheel-base \n",
      "R^2 =  0.7982735427794724 \n",
      "\n",
      "curb-weight engine-size length city-mpg wheel-base \n",
      "R^2 =  0.7981177655689266 \n",
      "\n",
      "curb-weight engine-size length city-mpg highway-mpg \n",
      "R^2 =  0.7980952491443027 \n",
      "\n",
      "curb-weight engine-size highway-mpg wheel-base bore \n",
      "R^2 =  0.7967740695059139 \n",
      "\n",
      "curb-weight engine-size length highway-mpg bore \n",
      "R^2 =  0.7967210649542258 \n",
      "\n",
      "curb-weight engine-size length highway-mpg wheel-base \n",
      "R^2 =  0.7962195424854931 \n",
      "\n",
      "curb-weight engine-size length wheel-base bore \n",
      "R^2 =  0.7935501084713477 \n",
      "\n",
      "engine-size length city-mpg wheel-base bore \n",
      "R^2 =  0.791586073689037 \n",
      "\n",
      "engine-size city-mpg highway-mpg wheel-base bore \n",
      "R^2 =  0.7914906845957349 \n",
      "\n",
      "engine-size length city-mpg highway-mpg wheel-base \n",
      "R^2 =  0.791121519500429 \n",
      "\n",
      "engine-size length width wheel-base bore \n",
      "R^2 =  0.7911110530655506 \n",
      "\n",
      "engine-size length city-mpg highway-mpg bore \n",
      "R^2 =  0.789715522935392 \n",
      "\n",
      "engine-size length highway-mpg wheel-base bore \n",
      "R^2 =  0.7894875985457848 \n",
      "\n",
      "engine-size horsepower city-mpg highway-mpg bore \n",
      "R^2 =  0.7879161575292613 \n",
      "\n",
      "curb-weight length width horsepower highway-mpg \n",
      "R^2 =  0.7835064153711271 \n",
      "\n",
      "curb-weight length width horsepower city-mpg \n",
      "R^2 =  0.7834248077977346 \n",
      "\n",
      "curb-weight width horsepower city-mpg bore \n",
      "R^2 =  0.7832599253421912 \n",
      "\n",
      "curb-weight width horsepower city-mpg wheel-base \n",
      "R^2 =  0.7830826110641527 \n",
      "\n",
      "curb-weight width horsepower highway-mpg bore \n",
      "R^2 =  0.7829852772577048 \n",
      "\n",
      "curb-weight width horsepower highway-mpg wheel-base \n",
      "R^2 =  0.782813685392349 \n",
      "\n",
      "curb-weight width horsepower city-mpg highway-mpg \n",
      "R^2 =  0.7826682942096159 \n",
      "\n",
      "curb-weight length width horsepower wheel-base \n",
      "R^2 =  0.7808036450783771 \n",
      "\n",
      "curb-weight length width horsepower bore \n",
      "R^2 =  0.7791194857154425 \n",
      "\n",
      "curb-weight length horsepower highway-mpg wheel-base \n",
      "R^2 =  0.7776655223595476 \n",
      "\n",
      "curb-weight width horsepower wheel-base bore \n",
      "R^2 =  0.777647888795781 \n",
      "\n",
      "curb-weight length horsepower city-mpg wheel-base \n",
      "R^2 =  0.7774519184190004 \n",
      "\n",
      "curb-weight horsepower city-mpg wheel-base bore \n",
      "R^2 =  0.7771674356295313 \n",
      "\n",
      "curb-weight horsepower highway-mpg wheel-base bore \n",
      "R^2 =  0.776801887498523 \n",
      "\n",
      "curb-weight horsepower city-mpg highway-mpg wheel-base \n",
      "R^2 =  0.7764219389172934 \n",
      "\n",
      "curb-weight length horsepower wheel-base bore \n",
      "R^2 =  0.7728683219068309 \n",
      "\n",
      "curb-weight length horsepower city-mpg bore \n",
      "R^2 =  0.7725027351134455 \n",
      "\n",
      "curb-weight horsepower city-mpg highway-mpg bore \n",
      "R^2 =  0.7721969780614278 \n",
      "\n",
      "curb-weight length horsepower city-mpg highway-mpg \n",
      "R^2 =  0.7718028039428505 \n",
      "\n",
      "curb-weight length horsepower highway-mpg bore \n",
      "R^2 =  0.771553109321611 \n",
      "\n",
      "width horsepower city-mpg wheel-base bore \n",
      "R^2 =  0.7686942166064255 \n",
      "\n",
      "width horsepower city-mpg highway-mpg wheel-base \n",
      "R^2 =  0.7686450560557399 \n",
      "\n",
      "length width horsepower city-mpg wheel-base \n",
      "R^2 =  0.7685841948155503 \n",
      "\n",
      "width horsepower highway-mpg wheel-base bore \n",
      "R^2 =  0.7676411252928895 \n",
      "\n",
      "length width horsepower highway-mpg wheel-base \n",
      "R^2 =  0.7676250068186021 \n",
      "\n",
      "length width horsepower wheel-base bore \n",
      "R^2 =  0.7654172920798666 \n",
      "\n",
      "length width horsepower city-mpg highway-mpg \n",
      "R^2 =  0.7632923148342328 \n",
      "\n",
      "length width horsepower city-mpg bore \n",
      "R^2 =  0.7626045726491771 \n",
      "\n",
      "length width horsepower highway-mpg bore \n",
      "R^2 =  0.7606976650735207 \n",
      "\n",
      "width horsepower city-mpg highway-mpg bore \n",
      "R^2 =  0.7601111649207148 \n",
      "\n",
      "length horsepower city-mpg highway-mpg wheel-base \n",
      "R^2 =  0.752846305624103 \n",
      "\n",
      "length horsepower city-mpg wheel-base bore \n",
      "R^2 =  0.7522582885788932 \n",
      "\n",
      "horsepower city-mpg highway-mpg wheel-base bore \n",
      "R^2 =  0.751745369355199 \n",
      "\n",
      "length horsepower highway-mpg wheel-base bore \n",
      "R^2 =  0.7503325237379533 \n",
      "\n",
      "length horsepower city-mpg highway-mpg bore \n",
      "R^2 =  0.7381295387662745 \n",
      "\n",
      "curb-weight length width city-mpg highway-mpg \n",
      "R^2 =  0.7338312151653026 \n",
      "\n",
      "curb-weight length width city-mpg wheel-base \n",
      "R^2 =  0.7327748206597489 \n",
      "\n",
      "curb-weight length width city-mpg bore \n",
      "R^2 =  0.7311708457096189 \n",
      "\n",
      "curb-weight length width highway-mpg wheel-base \n",
      "R^2 =  0.7307657703263498 \n",
      "\n",
      "curb-weight length width wheel-base bore \n",
      "R^2 =  0.728984930511726 \n",
      "\n",
      "curb-weight length width highway-mpg bore \n",
      "R^2 =  0.7280152415810313 \n",
      "\n",
      "curb-weight width city-mpg highway-mpg wheel-base \n",
      "R^2 =  0.7279522063031507 \n",
      "\n",
      "curb-weight width city-mpg wheel-base bore \n",
      "R^2 =  0.7274442269675924 \n",
      "\n",
      "curb-weight width highway-mpg wheel-base bore \n",
      "R^2 =  0.726418567530176 \n",
      "\n",
      "curb-weight width city-mpg highway-mpg bore \n",
      "R^2 =  0.7181063982457969 \n",
      "\n",
      "curb-weight length city-mpg highway-mpg bore \n",
      "R^2 =  0.7176283930319101 \n",
      "\n",
      "curb-weight length city-mpg highway-mpg wheel-base \n",
      "R^2 =  0.7176053175268053 \n",
      "\n",
      "curb-weight length city-mpg wheel-base bore \n",
      "R^2 =  0.7163485780806047 \n",
      "\n",
      "curb-weight length highway-mpg wheel-base bore \n",
      "R^2 =  0.7144903162016322 \n",
      "\n",
      "curb-weight city-mpg highway-mpg wheel-base bore \n",
      "R^2 =  0.7140473719703675 \n",
      "\n",
      "width city-mpg highway-mpg wheel-base bore \n",
      "R^2 =  0.6534251461702765 \n",
      "\n",
      "length width city-mpg highway-mpg bore \n",
      "R^2 =  0.6529464945642551 \n",
      "\n",
      "length width city-mpg wheel-base bore \n",
      "R^2 =  0.6527477797324426 \n",
      "\n",
      "length width city-mpg highway-mpg wheel-base \n",
      "R^2 =  0.6523375156104237 \n",
      "\n",
      "length width highway-mpg wheel-base bore \n",
      "R^2 =  0.6522980584161813 \n",
      "\n",
      "length city-mpg highway-mpg wheel-base bore \n",
      "R^2 =  0.587923977435856 \n",
      "\n"
     ]
    }
   ],
   "source": [
    "dict_r25 = CheckTwoVariable(df, n= 5)\n",
    "a = sorted(dict_r25.items(), key=lambda x: x[1])    \n",
    "for k, v in a[::-1]:\n",
    "    print(k,\"\\nR^2 = \", v, \"\\n\")"
   ]
  },
  {
   "cell_type": "code",
   "execution_count": 72,
   "metadata": {},
   "outputs": [],
   "source": [
    "def CheckTwoVariable(df, n = 6):\n",
    "    list_features = ['curb-weight','engine-size', 'length', 'width', 'horsepower', 'city-mpg', 'highway-mpg', 'wheel-base', 'bore' ]\n",
    "    dict_name = dict()\n",
    "    y = df['price']\n",
    "    y_average = y.mean()\n",
    "    for index_list1 in range(9):\n",
    "        for index_list2 in range(index_list1+1,9):\n",
    "            for index_list3 in range(index_list2+1, 9):\n",
    "                for index_list4 in range(index_list3+1, 9):\n",
    "                    for index_list5 in range(index_list4+1, 9):\n",
    "                        for index_list6 in range(index_list5+1, 9):\n",
    "                            temp = list_features.copy()\n",
    "                            temp2 = [temp[index_list1], temp[index_list2],temp[index_list3], temp[index_list4], temp[index_list5],  temp[index_list6] ]\n",
    "                            variables = df[temp2]\n",
    "                            lm_variables = LinearRegression()\n",
    "                            lm_variables.fit(variables,df['price'] )\n",
    "                            yhat = lm_variables.predict(variables)\n",
    "                            MSE = mean_squared_error(y, yhat)\n",
    "                            name = temp[index_list1] +\" \"+ temp[index_list2] +\" \"+ temp[index_list3] +\" \"+ temp[index_list4] +\" \"+ temp[index_list5] +\" \"+ temp[index_list6]\n",
    "                            MSE_y_average = ((y - y_average)**2).mean()\n",
    "                            R2 = 1 - (MSE / MSE_y_average)\n",
    "                            dict_name[name] = R2\n",
    "    return dict_name"
   ]
  },
  {
   "cell_type": "code",
   "execution_count": 73,
   "metadata": {},
   "outputs": [
    {
     "name": "stdout",
     "output_type": "stream",
     "text": [
      "curb-weight engine-size width horsepower wheel-base bore \n",
      "R^2 =  0.8143453466742875 \n",
      "\n",
      "curb-weight engine-size length width horsepower wheel-base \n",
      "R^2 =  0.8142736885042406 \n",
      "\n",
      "curb-weight engine-size length width horsepower bore \n",
      "R^2 =  0.814136686925024 \n",
      "\n",
      "curb-weight engine-size width horsepower highway-mpg bore \n",
      "R^2 =  0.8140924857147436 \n",
      "\n",
      "curb-weight engine-size width horsepower city-mpg bore \n",
      "R^2 =  0.8139513327694334 \n",
      "\n",
      "curb-weight engine-size width horsepower highway-mpg wheel-base \n",
      "R^2 =  0.813427685624315 \n",
      "\n",
      "curb-weight engine-size length width horsepower highway-mpg \n",
      "R^2 =  0.8133952428736062 \n",
      "\n",
      "curb-weight engine-size width horsepower city-mpg highway-mpg \n",
      "R^2 =  0.813235690984071 \n",
      "\n",
      "curb-weight engine-size length width horsepower city-mpg \n",
      "R^2 =  0.8132150904114869 \n",
      "\n",
      "curb-weight engine-size width horsepower city-mpg wheel-base \n",
      "R^2 =  0.8131910457363316 \n",
      "\n",
      "engine-size length width horsepower wheel-base bore \n",
      "R^2 =  0.8126077764337041 \n",
      "\n",
      "engine-size width horsepower city-mpg wheel-base bore \n",
      "R^2 =  0.8125346777450124 \n",
      "\n",
      "engine-size width horsepower highway-mpg wheel-base bore \n",
      "R^2 =  0.8124933327260968 \n",
      "\n",
      "engine-size length width horsepower city-mpg wheel-base \n",
      "R^2 =  0.8119594688366901 \n",
      "\n",
      "engine-size length width horsepower highway-mpg wheel-base \n",
      "R^2 =  0.8119203150197969 \n",
      "\n",
      "engine-size width horsepower city-mpg highway-mpg wheel-base \n",
      "R^2 =  0.8118391864122066 \n",
      "\n",
      "engine-size length width horsepower city-mpg bore \n",
      "R^2 =  0.8109154710001973 \n",
      "\n",
      "engine-size length width horsepower highway-mpg bore \n",
      "R^2 =  0.810859961380593 \n",
      "\n",
      "engine-size width horsepower city-mpg highway-mpg bore \n",
      "R^2 =  0.8106917514427515 \n",
      "\n",
      "engine-size length width horsepower city-mpg highway-mpg \n",
      "R^2 =  0.8102170048500766 \n",
      "\n",
      "curb-weight engine-size length horsepower wheel-base bore \n",
      "R^2 =  0.8096965252437249 \n",
      "\n",
      "curb-weight engine-size horsepower highway-mpg wheel-base bore \n",
      "R^2 =  0.8096325409455645 \n",
      "\n",
      "curb-weight engine-size horsepower city-mpg wheel-base bore \n",
      "R^2 =  0.8094750473164182 \n",
      "\n",
      "curb-weight engine-size length horsepower highway-mpg wheel-base \n",
      "R^2 =  0.808851864981314 \n",
      "\n",
      "curb-weight engine-size length horsepower city-mpg wheel-base \n",
      "R^2 =  0.8086350685195499 \n",
      "\n",
      "curb-weight engine-size horsepower city-mpg highway-mpg wheel-base \n",
      "R^2 =  0.8085950014652284 \n",
      "\n",
      "curb-weight engine-size length horsepower highway-mpg bore \n",
      "R^2 =  0.8066288564542171 \n",
      "\n",
      "curb-weight engine-size length horsepower city-mpg bore \n",
      "R^2 =  0.8065590206605964 \n",
      "\n",
      "curb-weight engine-size length width city-mpg highway-mpg \n",
      "R^2 =  0.8064151849196425 \n",
      "\n",
      "curb-weight engine-size horsepower city-mpg highway-mpg bore \n",
      "R^2 =  0.8062096738802331 \n",
      "\n",
      "curb-weight engine-size length width city-mpg bore \n",
      "R^2 =  0.8058157283549235 \n",
      "\n",
      "curb-weight engine-size length horsepower city-mpg highway-mpg \n",
      "R^2 =  0.8055194564282633 \n",
      "\n",
      "engine-size length horsepower city-mpg wheel-base bore \n",
      "R^2 =  0.8052677110203483 \n",
      "\n",
      "engine-size horsepower city-mpg highway-mpg wheel-base bore \n",
      "R^2 =  0.8052157835347571 \n",
      "\n",
      "engine-size length horsepower highway-mpg wheel-base bore \n",
      "R^2 =  0.8052072805709087 \n",
      "\n",
      "curb-weight engine-size width city-mpg highway-mpg bore \n",
      "R^2 =  0.8051734927926879 \n",
      "\n",
      "curb-weight engine-size length width city-mpg wheel-base \n",
      "R^2 =  0.8051487482739967 \n",
      "\n",
      "curb-weight engine-size width city-mpg wheel-base bore \n",
      "R^2 =  0.8047466039286004 \n",
      "\n",
      "curb-weight engine-size width city-mpg highway-mpg wheel-base \n",
      "R^2 =  0.804545245564978 \n",
      "\n",
      "engine-size length horsepower city-mpg highway-mpg wheel-base \n",
      "R^2 =  0.8044450066062725 \n",
      "\n",
      "curb-weight engine-size length width highway-mpg bore \n",
      "R^2 =  0.8034672897228463 \n",
      "\n",
      "curb-weight engine-size length width highway-mpg wheel-base \n",
      "R^2 =  0.803108121074479 \n",
      "\n",
      "curb-weight engine-size width highway-mpg wheel-base bore \n",
      "R^2 =  0.80302060857551 \n",
      "\n",
      "engine-size length width city-mpg highway-mpg bore \n",
      "R^2 =  0.8018361792411552 \n",
      "\n",
      "engine-size width city-mpg highway-mpg wheel-base bore \n",
      "R^2 =  0.8017881628484944 \n",
      "\n",
      "engine-size length width city-mpg wheel-base bore \n",
      "R^2 =  0.8015927685342868 \n",
      "\n",
      "engine-size length width city-mpg highway-mpg wheel-base \n",
      "R^2 =  0.8015821877133624 \n",
      "\n",
      "curb-weight engine-size length width wheel-base bore \n",
      "R^2 =  0.8006849465425523 \n",
      "\n",
      "engine-size length horsepower city-mpg highway-mpg bore \n",
      "R^2 =  0.799694451419144 \n",
      "\n",
      "curb-weight engine-size city-mpg highway-mpg wheel-base bore \n",
      "R^2 =  0.7993006184179948 \n",
      "\n",
      "engine-size length width highway-mpg wheel-base bore \n",
      "R^2 =  0.799143751517506 \n",
      "\n",
      "curb-weight engine-size length city-mpg highway-mpg wheel-base \n",
      "R^2 =  0.7990966137845521 \n",
      "\n",
      "curb-weight engine-size length city-mpg highway-mpg bore \n",
      "R^2 =  0.7989718993637089 \n",
      "\n",
      "curb-weight engine-size length city-mpg wheel-base bore \n",
      "R^2 =  0.7989352141958653 \n",
      "\n",
      "curb-weight engine-size length highway-mpg wheel-base bore \n",
      "R^2 =  0.7968663312674618 \n",
      "\n",
      "engine-size length city-mpg highway-mpg wheel-base bore \n",
      "R^2 =  0.79167811266294 \n",
      "\n",
      "curb-weight length width horsepower highway-mpg wheel-base \n",
      "R^2 =  0.7861077585859348 \n",
      "\n",
      "curb-weight length width horsepower city-mpg wheel-base \n",
      "R^2 =  0.7854681082699595 \n",
      "\n",
      "curb-weight length width horsepower highway-mpg bore \n",
      "R^2 =  0.7840217025480024 \n",
      "\n",
      "curb-weight length width horsepower city-mpg bore \n",
      "R^2 =  0.7839311292040823 \n",
      "\n",
      "curb-weight width horsepower city-mpg wheel-base bore \n",
      "R^2 =  0.7839108490900326 \n",
      "\n",
      "curb-weight width horsepower highway-mpg wheel-base bore \n",
      "R^2 =  0.7837467104335807 \n",
      "\n",
      "curb-weight length width horsepower city-mpg highway-mpg \n",
      "R^2 =  0.7836984139882135 \n",
      "\n",
      "curb-weight width horsepower city-mpg highway-mpg bore \n",
      "R^2 =  0.7834041504730165 \n",
      "\n",
      "curb-weight width horsepower city-mpg highway-mpg wheel-base \n",
      "R^2 =  0.7832674845944171 \n",
      "\n",
      "curb-weight length width horsepower wheel-base bore \n",
      "R^2 =  0.7816428546785659 \n",
      "\n",
      "curb-weight length horsepower highway-mpg wheel-base bore \n",
      "R^2 =  0.778296230644835 \n",
      "\n",
      "curb-weight length horsepower city-mpg wheel-base bore \n",
      "R^2 =  0.7780765139268229 \n",
      "\n",
      "curb-weight length horsepower city-mpg highway-mpg wheel-base \n",
      "R^2 =  0.7778156300312662 \n",
      "\n",
      "curb-weight horsepower city-mpg highway-mpg wheel-base bore \n",
      "R^2 =  0.7773025338743288 \n",
      "\n",
      "curb-weight length horsepower city-mpg highway-mpg bore \n",
      "R^2 =  0.7725068767294427 \n",
      "\n",
      "width horsepower city-mpg highway-mpg wheel-base bore \n",
      "R^2 =  0.7688012130074864 \n",
      "\n",
      "length width horsepower city-mpg wheel-base bore \n",
      "R^2 =  0.7687145220748113 \n",
      "\n",
      "length width horsepower city-mpg highway-mpg wheel-base \n",
      "R^2 =  0.7686716952402439 \n",
      "\n",
      "length width horsepower highway-mpg wheel-base bore \n",
      "R^2 =  0.7677720643582262 \n",
      "\n",
      "length width horsepower city-mpg highway-mpg bore \n",
      "R^2 =  0.7634300627951761 \n",
      "\n",
      "length horsepower city-mpg highway-mpg wheel-base bore \n",
      "R^2 =  0.7530388328445976 \n",
      "\n",
      "curb-weight length width city-mpg highway-mpg wheel-base \n",
      "R^2 =  0.7346721958470359 \n",
      "\n",
      "curb-weight length width city-mpg highway-mpg bore \n",
      "R^2 =  0.7338328584001181 \n",
      "\n",
      "curb-weight length width city-mpg wheel-base bore \n",
      "R^2 =  0.7327833061691302 \n",
      "\n",
      "curb-weight length width highway-mpg wheel-base bore \n",
      "R^2 =  0.730766318961086 \n",
      "\n",
      "curb-weight width city-mpg highway-mpg wheel-base bore \n",
      "R^2 =  0.7281313847183275 \n",
      "\n",
      "curb-weight length city-mpg highway-mpg wheel-base bore \n",
      "R^2 =  0.7176322522744379 \n",
      "\n",
      "length width city-mpg highway-mpg wheel-base bore \n",
      "R^2 =  0.6536422690885111 \n",
      "\n"
     ]
    }
   ],
   "source": [
    "dict_r26 = CheckTwoVariable(df, n= 6)\n",
    "a = sorted(dict_r26.items(), key=lambda x: x[1])    \n",
    "for k, v in a[::-1]:\n",
    "    print(k,\"\\nR^2 = \", v, \"\\n\")"
   ]
  },
  {
   "cell_type": "code",
   "execution_count": 74,
   "metadata": {},
   "outputs": [],
   "source": [
    "def CheckTwoVariable(df, n = 7):\n",
    "    list_features = ['curb-weight','engine-size', 'length', 'width', 'horsepower', 'city-mpg', 'highway-mpg', 'wheel-base', 'bore' ]\n",
    "    dict_name = dict()\n",
    "    y = df['price']\n",
    "    y_average = y.mean()\n",
    "    for index_list1 in range(9):\n",
    "        for index_list2 in range(index_list1+1,9):\n",
    "            for index_list3 in range(index_list2+1, 9):\n",
    "                for index_list4 in range(index_list3+1, 9):\n",
    "                    for index_list5 in range(index_list4+1, 9):\n",
    "                        for index_list6 in range(index_list5+1, 9):\n",
    "                            for index_list7 in range(index_list6+1, 9):\n",
    "                                temp = list_features.copy()\n",
    "                                temp2 = [temp[index_list1], temp[index_list2],temp[index_list3], temp[index_list4], temp[index_list5],  temp[index_list6], temp[index_list7] ]\n",
    "                                variables = df[temp2]\n",
    "                                lm_variables = LinearRegression()\n",
    "                                lm_variables.fit(variables,df['price'] )\n",
    "                                yhat = lm_variables.predict(variables)\n",
    "                                MSE = mean_squared_error(y, yhat)\n",
    "                                name = temp[index_list1] +\" \"+ temp[index_list2] +\" \"+ temp[index_list3] +\" \"+ temp[index_list4] +\" \"+ temp[index_list5] +\" \"+ temp[index_list6] +\" \"+ temp[index_list7]\n",
    "                                MSE_y_average = ((y - y_average)**2).mean()\n",
    "                                R2 = 1 - (MSE / MSE_y_average)\n",
    "                                dict_name[name] = R2\n",
    "    return dict_name"
   ]
  },
  {
   "cell_type": "code",
   "execution_count": 75,
   "metadata": {},
   "outputs": [
    {
     "name": "stdout",
     "output_type": "stream",
     "text": [
      "curb-weight engine-size length width horsepower wheel-base bore \n",
      "R^2 =  0.8151866369870608 \n",
      "\n",
      "curb-weight engine-size width horsepower highway-mpg wheel-base bore \n",
      "R^2 =  0.8145609397899825 \n",
      "\n",
      "curb-weight engine-size length width horsepower highway-mpg wheel-base \n",
      "R^2 =  0.8145181673499237 \n",
      "\n",
      "curb-weight engine-size width horsepower city-mpg wheel-base bore \n",
      "R^2 =  0.8143810715568888 \n",
      "\n",
      "curb-weight engine-size width horsepower city-mpg highway-mpg bore \n",
      "R^2 =  0.8143483864461918 \n",
      "\n",
      "curb-weight engine-size length width horsepower city-mpg wheel-base \n",
      "R^2 =  0.8142880489389511 \n",
      "\n",
      "curb-weight engine-size length width horsepower highway-mpg bore \n",
      "R^2 =  0.814262248278776 \n",
      "\n",
      "curb-weight engine-size length width horsepower city-mpg bore \n",
      "R^2 =  0.8141402407121683 \n",
      "\n",
      "curb-weight engine-size length width horsepower city-mpg highway-mpg \n",
      "R^2 =  0.8137277543845798 \n",
      "\n",
      "curb-weight engine-size width horsepower city-mpg highway-mpg wheel-base \n",
      "R^2 =  0.8136307758951441 \n",
      "\n",
      "engine-size width horsepower city-mpg highway-mpg wheel-base bore \n",
      "R^2 =  0.812739727681943 \n",
      "\n",
      "engine-size length width horsepower city-mpg wheel-base bore \n",
      "R^2 =  0.8127035835082291 \n",
      "\n",
      "engine-size length width horsepower highway-mpg wheel-base bore \n",
      "R^2 =  0.8126119511600696 \n",
      "\n",
      "engine-size length width horsepower city-mpg highway-mpg wheel-base \n",
      "R^2 =  0.812259301244973 \n",
      "\n",
      "engine-size length width horsepower city-mpg highway-mpg bore \n",
      "R^2 =  0.8109593288540168 \n",
      "\n",
      "curb-weight engine-size horsepower city-mpg highway-mpg wheel-base bore \n",
      "R^2 =  0.8098641238394925 \n",
      "\n",
      "curb-weight engine-size length horsepower highway-mpg wheel-base bore \n",
      "R^2 =  0.8098578656817559 \n",
      "\n",
      "curb-weight engine-size length horsepower city-mpg wheel-base bore \n",
      "R^2 =  0.8097059649452829 \n",
      "\n",
      "curb-weight engine-size length horsepower city-mpg highway-mpg wheel-base \n",
      "R^2 =  0.8092104697388531 \n",
      "\n",
      "curb-weight engine-size length width city-mpg highway-mpg bore \n",
      "R^2 =  0.807075543151156 \n",
      "\n",
      "curb-weight engine-size length horsepower city-mpg highway-mpg bore \n",
      "R^2 =  0.8066809429438586 \n",
      "\n",
      "curb-weight engine-size length width city-mpg highway-mpg wheel-base \n",
      "R^2 =  0.806489610267595 \n",
      "\n",
      "curb-weight engine-size length width city-mpg wheel-base bore \n",
      "R^2 =  0.8058158297740342 \n",
      "\n",
      "curb-weight engine-size width city-mpg highway-mpg wheel-base bore \n",
      "R^2 =  0.8055369643200911 \n",
      "\n",
      "engine-size length horsepower city-mpg highway-mpg wheel-base bore \n",
      "R^2 =  0.8053078804558439 \n",
      "\n",
      "curb-weight engine-size length width highway-mpg wheel-base bore \n",
      "R^2 =  0.8036107859658599 \n",
      "\n",
      "engine-size length width city-mpg highway-mpg wheel-base bore \n",
      "R^2 =  0.8020363929425058 \n",
      "\n",
      "curb-weight engine-size length city-mpg highway-mpg wheel-base bore \n",
      "R^2 =  0.7998988977828122 \n",
      "\n",
      "curb-weight length width horsepower highway-mpg wheel-base bore \n",
      "R^2 =  0.7865809359794425 \n",
      "\n",
      "curb-weight length width horsepower city-mpg highway-mpg wheel-base \n",
      "R^2 =  0.7861201314102577 \n",
      "\n",
      "curb-weight length width horsepower city-mpg wheel-base bore \n",
      "R^2 =  0.7859542036419862 \n",
      "\n",
      "curb-weight length width horsepower city-mpg highway-mpg bore \n",
      "R^2 =  0.7841952660651671 \n",
      "\n",
      "curb-weight width horsepower city-mpg highway-mpg wheel-base bore \n",
      "R^2 =  0.7841103873648927 \n",
      "\n",
      "curb-weight length horsepower city-mpg highway-mpg wheel-base bore \n",
      "R^2 =  0.7784283146535701 \n",
      "\n",
      "length width horsepower city-mpg highway-mpg wheel-base bore \n",
      "R^2 =  0.7688099473913867 \n",
      "\n",
      "curb-weight length width city-mpg highway-mpg wheel-base bore \n",
      "R^2 =  0.7346786798120812 \n",
      "\n"
     ]
    }
   ],
   "source": [
    "dict_r27 = CheckTwoVariable(df, n= 7)\n",
    "a = sorted(dict_r27.items(), key=lambda x: x[1])    \n",
    "for k, v in a[::-1]:\n",
    "    print(k,\"\\nR^2 = \", v, \"\\n\")"
   ]
  },
  {
   "cell_type": "code",
   "execution_count": 86,
   "metadata": {},
   "outputs": [],
   "source": []
  }
 ],
 "metadata": {
  "colab": {
   "collapsed_sections": [],
   "name": "Lab4.ipynb",
   "provenance": []
  },
  "kernelspec": {
   "display_name": "Python 3",
   "language": "python",
   "name": "python3"
  },
  "language_info": {
   "codemirror_mode": {
    "name": "ipython",
    "version": 3
   },
   "file_extension": ".py",
   "mimetype": "text/x-python",
   "name": "python",
   "nbconvert_exporter": "python",
   "pygments_lexer": "ipython3",
   "version": "3.8.2"
  }
 },
 "nbformat": 4,
 "nbformat_minor": 1
}
